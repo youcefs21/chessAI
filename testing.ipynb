{
 "cells": [
  {
   "metadata": {
    "jupyter": {
     "is_executing": true
    },
    "ExecuteTime": {
     "start_time": "2024-12-07T19:54:53.386335Z"
    }
   },
   "cell_type": "code",
   "source": [
    "import torch\n",
    "\n",
    "from src.dataset.chess_dataset import ChessDataset, Sizes\n",
    "from logging_config import setup_logging\n",
    "\n",
    "# Setup logging\n",
    "logger = setup_logging()\n",
    "\n",
    "device = torch.device(\"mps\" if torch.backends.mps.is_available() else \"cuda\" if torch.cuda.is_available() else \"cpu\")\n",
    "logger.info(f\"Using device: {device}\")\n",
    "\n",
    "# I need to make csv batches of data and uploads it to huggingface\n",
    "dataset = ChessDataset(size=Sizes.smol)\n",
    "logger.info(\"Successfully initialized ChessDataset\")"
   ],
   "id": "b650c9ea7e63bbb1",
   "outputs": [
    {
     "name": "stdout",
     "output_type": "stream",
     "text": [
      "\u001B[32m14:54:53 - chessAI - INFO\u001B[0m \u001B[1;37mUsing device: mps\u001B[0m\n",
      "\u001B[32m14:54:53 - chessAI - INFO\u001B[0m \u001B[1;37mInitializing ChessDataset\u001B[0m\n",
      "\u001B[32m14:54:53 - chessAI - INFO\u001B[0m \u001B[1;37mRepository Youcef/chessGames already exists\u001B[0m\n",
      "\u001B[32m14:54:53 - chessAI - INFO\u001B[0m \u001B[1;37mDataset does not exist, creating...\u001B[0m\n",
      "\u001B[32m14:54:53 - chessAI - INFO\u001B[0m \u001B[1;37mReading parsed_lichess_db_standard_rated_2024-08.pgn...\u001B[0m\n",
      "\u001B[32m14:54:55 - chessAI - INFO\u001B[0m \u001B[1;37mRead 1000 games. Valid: 56, Invalid: 943, Ratio: 0.06\u001B[0m\n",
      "\u001B[32m14:54:56 - chessAI - INFO\u001B[0m \u001B[1;37mRead 2000 games. Valid: 101, Invalid: 1898, Ratio: 0.05\u001B[0m\n",
      "\u001B[32m14:54:58 - chessAI - INFO\u001B[0m \u001B[1;37mRead 3000 games. Valid: 154, Invalid: 2845, Ratio: 0.05\u001B[0m\n",
      "\u001B[32m14:55:00 - chessAI - INFO\u001B[0m \u001B[1;37mRead 4000 games. Valid: 211, Invalid: 3788, Ratio: 0.06\u001B[0m\n",
      "\u001B[32m14:55:02 - chessAI - INFO\u001B[0m \u001B[1;37mRead 5000 games. Valid: 265, Invalid: 4734, Ratio: 0.06\u001B[0m\n",
      "\u001B[32m14:55:04 - chessAI - INFO\u001B[0m \u001B[1;37mRead 6000 games. Valid: 323, Invalid: 5676, Ratio: 0.06\u001B[0m\n",
      "\u001B[32m14:55:05 - chessAI - INFO\u001B[0m \u001B[1;37mRead 7000 games. Valid: 379, Invalid: 6620, Ratio: 0.06\u001B[0m\n",
      "\u001B[32m14:55:07 - chessAI - INFO\u001B[0m \u001B[1;37mRead 8000 games. Valid: 431, Invalid: 7568, Ratio: 0.06\u001B[0m\n",
      "\u001B[32m14:55:09 - chessAI - INFO\u001B[0m \u001B[1;37mRead 9000 games. Valid: 479, Invalid: 8520, Ratio: 0.06\u001B[0m\n",
      "\u001B[32m14:55:11 - chessAI - INFO\u001B[0m \u001B[1;37mRead 10000 games. Valid: 537, Invalid: 9462, Ratio: 0.06\u001B[0m\n",
      "\u001B[32m14:55:13 - chessAI - INFO\u001B[0m \u001B[1;37mRead 11000 games. Valid: 586, Invalid: 10413, Ratio: 0.06\u001B[0m\n",
      "\u001B[32m14:55:14 - chessAI - INFO\u001B[0m \u001B[1;37mRead 12000 games. Valid: 631, Invalid: 11368, Ratio: 0.06\u001B[0m\n",
      "\u001B[32m14:55:16 - chessAI - INFO\u001B[0m \u001B[1;37mRead 13000 games. Valid: 678, Invalid: 12321, Ratio: 0.06\u001B[0m\n",
      "\u001B[32m14:55:17 - chessAI - INFO\u001B[0m \u001B[1;37mRead 14000 games. Valid: 731, Invalid: 13268, Ratio: 0.06\u001B[0m\n",
      "\u001B[32m14:55:20 - chessAI - INFO\u001B[0m \u001B[1;37mRead 15000 games. Valid: 773, Invalid: 14226, Ratio: 0.05\u001B[0m\n",
      "\u001B[32m14:55:24 - chessAI - INFO\u001B[0m \u001B[1;37mRead 16000 games. Valid: 823, Invalid: 15176, Ratio: 0.05\u001B[0m\n",
      "\u001B[32m14:55:27 - chessAI - INFO\u001B[0m \u001B[1;37mRead 17000 games. Valid: 862, Invalid: 16137, Ratio: 0.05\u001B[0m\n",
      "\u001B[32m14:55:29 - chessAI - INFO\u001B[0m \u001B[1;37mRead 18000 games. Valid: 912, Invalid: 17087, Ratio: 0.05\u001B[0m\n",
      "\u001B[32m14:55:31 - chessAI - INFO\u001B[0m \u001B[1;37mRead 19000 games. Valid: 970, Invalid: 18029, Ratio: 0.05\u001B[0m\n",
      "\u001B[32m14:55:33 - chessAI - INFO\u001B[0m \u001B[1;37mRead 20000 games. Valid: 1032, Invalid: 18967, Ratio: 0.05\u001B[0m\n",
      "\u001B[32m14:55:35 - chessAI - INFO\u001B[0m \u001B[1;37mRead 21000 games. Valid: 1085, Invalid: 19914, Ratio: 0.05\u001B[0m\n",
      "\u001B[32m14:55:36 - chessAI - INFO\u001B[0m \u001B[1;37mRead 22000 games. Valid: 1152, Invalid: 20847, Ratio: 0.06\u001B[0m\n",
      "\u001B[32m14:55:38 - chessAI - INFO\u001B[0m \u001B[1;37mRead 23000 games. Valid: 1224, Invalid: 21775, Ratio: 0.06\u001B[0m\n",
      "\u001B[32m14:55:40 - chessAI - INFO\u001B[0m \u001B[1;37mRead 24000 games. Valid: 1283, Invalid: 22716, Ratio: 0.06\u001B[0m\n",
      "\u001B[32m14:55:42 - chessAI - INFO\u001B[0m \u001B[1;37mRead 25000 games. Valid: 1357, Invalid: 23642, Ratio: 0.06\u001B[0m\n",
      "\u001B[32m14:55:44 - chessAI - INFO\u001B[0m \u001B[1;37mRead 26000 games. Valid: 1416, Invalid: 24583, Ratio: 0.06\u001B[0m\n"
     ]
    }
   ],
   "execution_count": null
  },
  {
   "cell_type": "code",
   "id": "8f62346140d1ad1c",
   "metadata": {
    "ExecuteTime": {
     "end_time": "2024-12-07T19:49:22.601597Z",
     "start_time": "2024-12-07T19:49:22.587413Z"
    }
   },
   "source": "dataset.df_train[\"Board State\"][0]",
   "outputs": [
    {
     "data": {
      "text/plain": [
       "['0.15',\n",
       " '0.25',\n",
       " '0.22',\n",
       " '0.28',\n",
       " '0.14',\n",
       " '0.2',\n",
       " '0.2',\n",
       " '0.22',\n",
       " '0.15',\n",
       " '0.17',\n",
       " '0.23',\n",
       " '0.22',\n",
       " '0.32',\n",
       " '0.28',\n",
       " '0.29',\n",
       " '0.82',\n",
       " '0.55',\n",
       " '1.37',\n",
       " '1.35',\n",
       " '2.32',\n",
       " '2.23',\n",
       " '2.28',\n",
       " '2.51',\n",
       " '2.48',\n",
       " '2.23',\n",
       " '2.23',\n",
       " '0.64',\n",
       " '1.39',\n",
       " '1.3',\n",
       " '2.47',\n",
       " '0.74',\n",
       " '1.02',\n",
       " '0.71',\n",
       " '2.88',\n",
       " '1.71',\n",
       " '2.88',\n",
       " '2.96']"
      ]
     },
     "execution_count": 2,
     "metadata": {},
     "output_type": "execute_result"
    }
   ],
   "execution_count": 2
  }
 ],
 "metadata": {
  "kernelspec": {
   "display_name": "Python 3",
   "language": "python",
   "name": "python3"
  },
  "language_info": {
   "codemirror_mode": {
    "name": "ipython",
    "version": 2
   },
   "file_extension": ".py",
   "mimetype": "text/x-python",
   "name": "python",
   "nbconvert_exporter": "python",
   "pygments_lexer": "ipython2",
   "version": "2.7.6"
  }
 },
 "nbformat": 4,
 "nbformat_minor": 5
}
