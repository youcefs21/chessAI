{
 "cells": [
  {
   "cell_type": "code",
   "execution_count": 10,
   "id": "b650c9ea7e63bbb1",
   "metadata": {
    "ExecuteTime": {
     "end_time": "2024-12-07T22:45:52.427053Z",
     "start_time": "2024-12-07T22:41:31.323333Z"
    }
   },
   "outputs": [
    {
     "name": "stdout",
     "output_type": "stream",
     "text": [
      "\u001B[32m17:41:31 - chessAI - INFO\u001B[0m \u001B[1;37mUsing device: mps\u001B[0m\n",
      "\u001B[32m17:41:31 - chessAI - INFO\u001B[0m \u001B[1;37mInitializing ChessDataset\u001B[0m\n",
      "\u001B[32m17:41:31 - chessAI - INFO\u001B[0m \u001B[1;37mRepository Youcef/chessGames already exists\u001B[0m\n",
      "\u001B[32m17:41:31 - chessAI - INFO\u001B[0m \u001B[1;37mDataset does not exist, creating...\u001B[0m\n",
      "\u001B[32m17:41:31 - chessAI - INFO\u001B[0m \u001B[1;37mReading parsed_lichess_db_standard_rated_2024-08.pgn...\u001B[0m\n",
      "\u001B[32m17:41:33 - chessAI - INFO\u001B[0m \u001B[1;37mRead 1000 games. Valid: 56, Invalid: 943, Ratio: 0.06\u001B[0m\n",
      "\u001B[32m17:41:34 - chessAI - INFO\u001B[0m \u001B[1;37mRead 2000 games. Valid: 101, Invalid: 1898, Ratio: 0.05\u001B[0m\n",
      "\u001B[32m17:41:34 - chessAI - INFO\u001B[0m \u001B[1;37mRead 3000 games. Valid: 154, Invalid: 2845, Ratio: 0.05\u001B[0m\n",
      "\u001B[32m17:41:35 - chessAI - INFO\u001B[0m \u001B[1;37mRead 4000 games. Valid: 211, Invalid: 3788, Ratio: 0.06\u001B[0m\n",
      "\u001B[32m17:41:36 - chessAI - INFO\u001B[0m \u001B[1;37mRead 5000 games. Valid: 265, Invalid: 4734, Ratio: 0.06\u001B[0m\n",
      "\u001B[32m17:41:37 - chessAI - INFO\u001B[0m \u001B[1;37mRead 6000 games. Valid: 323, Invalid: 5676, Ratio: 0.06\u001B[0m\n",
      "\u001B[32m17:41:38 - chessAI - INFO\u001B[0m \u001B[1;37mRead 7000 games. Valid: 379, Invalid: 6620, Ratio: 0.06\u001B[0m\n",
      "\u001B[32m17:41:39 - chessAI - INFO\u001B[0m \u001B[1;37mRead 8000 games. Valid: 431, Invalid: 7568, Ratio: 0.06\u001B[0m\n",
      "\u001B[32m17:41:40 - chessAI - INFO\u001B[0m \u001B[1;37mRead 9000 games. Valid: 479, Invalid: 8520, Ratio: 0.06\u001B[0m\n",
      "\u001B[32m17:41:42 - chessAI - INFO\u001B[0m \u001B[1;37mRead 10000 games. Valid: 537, Invalid: 9462, Ratio: 0.06\u001B[0m\n",
      "\u001B[32m17:41:43 - chessAI - INFO\u001B[0m \u001B[1;37mRead 11000 games. Valid: 586, Invalid: 10413, Ratio: 0.06\u001B[0m\n",
      "\u001B[32m17:41:44 - chessAI - INFO\u001B[0m \u001B[1;37mRead 12000 games. Valid: 631, Invalid: 11368, Ratio: 0.06\u001B[0m\n",
      "\u001B[32m17:41:45 - chessAI - INFO\u001B[0m \u001B[1;37mRead 13000 games. Valid: 678, Invalid: 12321, Ratio: 0.06\u001B[0m\n",
      "\u001B[32m17:41:46 - chessAI - INFO\u001B[0m \u001B[1;37mRead 14000 games. Valid: 731, Invalid: 13268, Ratio: 0.06\u001B[0m\n",
      "\u001B[32m17:41:47 - chessAI - INFO\u001B[0m \u001B[1;37mRead 15000 games. Valid: 773, Invalid: 14226, Ratio: 0.05\u001B[0m\n",
      "\u001B[32m17:41:48 - chessAI - INFO\u001B[0m \u001B[1;37mRead 16000 games. Valid: 823, Invalid: 15176, Ratio: 0.05\u001B[0m\n",
      "\u001B[32m17:41:50 - chessAI - INFO\u001B[0m \u001B[1;37mRead 17000 games. Valid: 862, Invalid: 16137, Ratio: 0.05\u001B[0m\n",
      "\u001B[32m17:41:51 - chessAI - INFO\u001B[0m \u001B[1;37mRead 18000 games. Valid: 912, Invalid: 17087, Ratio: 0.05\u001B[0m\n",
      "\u001B[32m17:41:52 - chessAI - INFO\u001B[0m \u001B[1;37mRead 19000 games. Valid: 970, Invalid: 18029, Ratio: 0.05\u001B[0m\n",
      "\u001B[32m17:41:53 - chessAI - INFO\u001B[0m \u001B[1;37mRead 20000 games. Valid: 1032, Invalid: 18967, Ratio: 0.05\u001B[0m\n",
      "\u001B[32m17:41:54 - chessAI - INFO\u001B[0m \u001B[1;37mRead 21000 games. Valid: 1085, Invalid: 19914, Ratio: 0.05\u001B[0m\n",
      "\u001B[32m17:41:55 - chessAI - INFO\u001B[0m \u001B[1;37mRead 22000 games. Valid: 1152, Invalid: 20847, Ratio: 0.06\u001B[0m\n",
      "\u001B[32m17:41:56 - chessAI - INFO\u001B[0m \u001B[1;37mRead 23000 games. Valid: 1224, Invalid: 21775, Ratio: 0.06\u001B[0m\n",
      "\u001B[32m17:41:57 - chessAI - INFO\u001B[0m \u001B[1;37mRead 24000 games. Valid: 1283, Invalid: 22716, Ratio: 0.06\u001B[0m\n",
      "\u001B[32m17:41:58 - chessAI - INFO\u001B[0m \u001B[1;37mRead 25000 games. Valid: 1357, Invalid: 23642, Ratio: 0.06\u001B[0m\n",
      "\u001B[32m17:41:59 - chessAI - INFO\u001B[0m \u001B[1;37mRead 26000 games. Valid: 1416, Invalid: 24583, Ratio: 0.06\u001B[0m\n",
      "\u001B[32m17:42:00 - chessAI - INFO\u001B[0m \u001B[1;37mRead 27000 games. Valid: 1481, Invalid: 25518, Ratio: 0.06\u001B[0m\n",
      "\u001B[32m17:42:01 - chessAI - INFO\u001B[0m \u001B[1;37mRead 28000 games. Valid: 1554, Invalid: 26445, Ratio: 0.06\u001B[0m\n",
      "\u001B[32m17:42:02 - chessAI - INFO\u001B[0m \u001B[1;37mRead 29000 games. Valid: 1619, Invalid: 27380, Ratio: 0.06\u001B[0m\n",
      "\u001B[32m17:42:03 - chessAI - INFO\u001B[0m \u001B[1;37mRead 30000 games. Valid: 1681, Invalid: 28318, Ratio: 0.06\u001B[0m\n",
      "\u001B[32m17:42:04 - chessAI - INFO\u001B[0m \u001B[1;37mRead 31000 games. Valid: 1731, Invalid: 29268, Ratio: 0.06\u001B[0m\n",
      "\u001B[32m17:42:05 - chessAI - INFO\u001B[0m \u001B[1;37mRead 32000 games. Valid: 1796, Invalid: 30203, Ratio: 0.06\u001B[0m\n",
      "\u001B[32m17:42:06 - chessAI - INFO\u001B[0m \u001B[1;37mRead 33000 games. Valid: 1861, Invalid: 31138, Ratio: 0.06\u001B[0m\n",
      "\u001B[32m17:42:07 - chessAI - INFO\u001B[0m \u001B[1;37mRead 34000 games. Valid: 1916, Invalid: 32083, Ratio: 0.06\u001B[0m\n",
      "\u001B[32m17:42:08 - chessAI - INFO\u001B[0m \u001B[1;37mRead 35000 games. Valid: 1972, Invalid: 33027, Ratio: 0.06\u001B[0m\n",
      "\u001B[32m17:42:08 - chessAI - INFO\u001B[0m \u001B[1;37mRead 36000 games. Valid: 2041, Invalid: 33958, Ratio: 0.06\u001B[0m\n",
      "\u001B[32m17:42:10 - chessAI - INFO\u001B[0m \u001B[1;37mRead 37000 games. Valid: 2090, Invalid: 34909, Ratio: 0.06\u001B[0m\n",
      "\u001B[32m17:42:11 - chessAI - INFO\u001B[0m \u001B[1;37mRead 38000 games. Valid: 2130, Invalid: 35869, Ratio: 0.06\u001B[0m\n",
      "\u001B[32m17:42:12 - chessAI - INFO\u001B[0m \u001B[1;37mRead 39000 games. Valid: 2181, Invalid: 36818, Ratio: 0.06\u001B[0m\n",
      "\u001B[32m17:42:13 - chessAI - INFO\u001B[0m \u001B[1;37mRead 40000 games. Valid: 2236, Invalid: 37763, Ratio: 0.06\u001B[0m\n",
      "\u001B[32m17:42:14 - chessAI - INFO\u001B[0m \u001B[1;37mRead 41000 games. Valid: 2281, Invalid: 38718, Ratio: 0.06\u001B[0m\n",
      "\u001B[32m17:42:14 - chessAI - INFO\u001B[0m \u001B[1;37mRead 42000 games. Valid: 2327, Invalid: 39672, Ratio: 0.06\u001B[0m\n",
      "\u001B[32m17:42:15 - chessAI - INFO\u001B[0m \u001B[1;37mRead 43000 games. Valid: 2368, Invalid: 40631, Ratio: 0.06\u001B[0m\n",
      "\u001B[32m17:42:16 - chessAI - INFO\u001B[0m \u001B[1;37mRead 44000 games. Valid: 2412, Invalid: 41587, Ratio: 0.06\u001B[0m\n",
      "\u001B[32m17:42:18 - chessAI - INFO\u001B[0m \u001B[1;37mRead 45000 games. Valid: 2463, Invalid: 42536, Ratio: 0.06\u001B[0m\n",
      "\u001B[32m17:42:19 - chessAI - INFO\u001B[0m \u001B[1;37mRead 46000 games. Valid: 2505, Invalid: 43494, Ratio: 0.06\u001B[0m\n",
      "\u001B[32m17:42:20 - chessAI - INFO\u001B[0m \u001B[1;37mRead 47000 games. Valid: 2549, Invalid: 44450, Ratio: 0.06\u001B[0m\n",
      "\u001B[32m17:42:21 - chessAI - INFO\u001B[0m \u001B[1;37mRead 48000 games. Valid: 2599, Invalid: 45400, Ratio: 0.06\u001B[0m\n",
      "\u001B[32m17:42:22 - chessAI - INFO\u001B[0m \u001B[1;37mRead 49000 games. Valid: 2646, Invalid: 46353, Ratio: 0.06\u001B[0m\n",
      "\u001B[32m17:42:23 - chessAI - INFO\u001B[0m \u001B[1;37mRead 50000 games. Valid: 2692, Invalid: 47307, Ratio: 0.06\u001B[0m\n",
      "\u001B[32m17:42:24 - chessAI - INFO\u001B[0m \u001B[1;37mRead 51000 games. Valid: 2742, Invalid: 48257, Ratio: 0.06\u001B[0m\n",
      "\u001B[32m17:42:25 - chessAI - INFO\u001B[0m \u001B[1;37mRead 52000 games. Valid: 2794, Invalid: 49205, Ratio: 0.06\u001B[0m\n",
      "\u001B[32m17:42:26 - chessAI - INFO\u001B[0m \u001B[1;37mRead 53000 games. Valid: 2845, Invalid: 50154, Ratio: 0.06\u001B[0m\n",
      "\u001B[32m17:42:27 - chessAI - INFO\u001B[0m \u001B[1;37mRead 54000 games. Valid: 2909, Invalid: 51090, Ratio: 0.06\u001B[0m\n",
      "\u001B[32m17:42:28 - chessAI - INFO\u001B[0m \u001B[1;37mRead 55000 games. Valid: 2957, Invalid: 52042, Ratio: 0.06\u001B[0m\n",
      "\u001B[32m17:42:29 - chessAI - INFO\u001B[0m \u001B[1;37mRead 56000 games. Valid: 3006, Invalid: 52993, Ratio: 0.06\u001B[0m\n",
      "\u001B[32m17:42:30 - chessAI - INFO\u001B[0m \u001B[1;37mRead 57000 games. Valid: 3047, Invalid: 53952, Ratio: 0.06\u001B[0m\n",
      "\u001B[32m17:42:31 - chessAI - INFO\u001B[0m \u001B[1;37mRead 58000 games. Valid: 3100, Invalid: 54899, Ratio: 0.06\u001B[0m\n",
      "\u001B[32m17:42:32 - chessAI - INFO\u001B[0m \u001B[1;37mRead 59000 games. Valid: 3134, Invalid: 55865, Ratio: 0.06\u001B[0m\n",
      "\u001B[32m17:42:33 - chessAI - INFO\u001B[0m \u001B[1;37mRead 60000 games. Valid: 3184, Invalid: 56815, Ratio: 0.06\u001B[0m\n",
      "\u001B[32m17:42:34 - chessAI - INFO\u001B[0m \u001B[1;37mRead 61000 games. Valid: 3225, Invalid: 57774, Ratio: 0.06\u001B[0m\n",
      "\u001B[32m17:42:35 - chessAI - INFO\u001B[0m \u001B[1;37mRead 62000 games. Valid: 3276, Invalid: 58723, Ratio: 0.06\u001B[0m\n",
      "\u001B[32m17:42:36 - chessAI - INFO\u001B[0m \u001B[1;37mRead 63000 games. Valid: 3323, Invalid: 59676, Ratio: 0.06\u001B[0m\n",
      "\u001B[32m17:42:37 - chessAI - INFO\u001B[0m \u001B[1;37mRead 64000 games. Valid: 3369, Invalid: 60630, Ratio: 0.06\u001B[0m\n",
      "\u001B[32m17:42:38 - chessAI - INFO\u001B[0m \u001B[1;37mRead 65000 games. Valid: 3405, Invalid: 61594, Ratio: 0.06\u001B[0m\n",
      "\u001B[32m17:42:39 - chessAI - INFO\u001B[0m \u001B[1;37mRead 66000 games. Valid: 3462, Invalid: 62537, Ratio: 0.06\u001B[0m\n",
      "\u001B[32m17:42:39 - chessAI - INFO\u001B[0m \u001B[1;37mRead 67000 games. Valid: 3507, Invalid: 63492, Ratio: 0.06\u001B[0m\n",
      "\u001B[32m17:42:40 - chessAI - INFO\u001B[0m \u001B[1;37mRead 68000 games. Valid: 3562, Invalid: 64437, Ratio: 0.06\u001B[0m\n",
      "\u001B[32m17:42:41 - chessAI - INFO\u001B[0m \u001B[1;37mRead 69000 games. Valid: 3609, Invalid: 65390, Ratio: 0.06\u001B[0m\n",
      "\u001B[32m17:42:42 - chessAI - INFO\u001B[0m \u001B[1;37mRead 70000 games. Valid: 3659, Invalid: 66340, Ratio: 0.06\u001B[0m\n",
      "\u001B[32m17:42:43 - chessAI - INFO\u001B[0m \u001B[1;37mRead 71000 games. Valid: 3728, Invalid: 67271, Ratio: 0.06\u001B[0m\n",
      "\u001B[32m17:42:45 - chessAI - INFO\u001B[0m \u001B[1;37mRead 72000 games. Valid: 3772, Invalid: 68227, Ratio: 0.06\u001B[0m\n",
      "\u001B[32m17:42:45 - chessAI - INFO\u001B[0m \u001B[1;37mRead 73000 games. Valid: 3823, Invalid: 69176, Ratio: 0.06\u001B[0m\n",
      "\u001B[32m17:42:46 - chessAI - INFO\u001B[0m \u001B[1;37mRead 74000 games. Valid: 3871, Invalid: 70128, Ratio: 0.06\u001B[0m\n",
      "\u001B[32m17:42:47 - chessAI - INFO\u001B[0m \u001B[1;37mRead 75000 games. Valid: 3911, Invalid: 71088, Ratio: 0.06\u001B[0m\n",
      "\u001B[32m17:42:48 - chessAI - INFO\u001B[0m \u001B[1;37mRead 76000 games. Valid: 3956, Invalid: 72043, Ratio: 0.05\u001B[0m\n",
      "\u001B[32m17:42:49 - chessAI - INFO\u001B[0m \u001B[1;37mRead 77000 games. Valid: 3999, Invalid: 73000, Ratio: 0.05\u001B[0m\n",
      "\u001B[32m17:42:50 - chessAI - INFO\u001B[0m \u001B[1;37mRead 78000 games. Valid: 4052, Invalid: 73947, Ratio: 0.05\u001B[0m\n",
      "\u001B[32m17:42:51 - chessAI - INFO\u001B[0m \u001B[1;37mRead 79000 games. Valid: 4101, Invalid: 74898, Ratio: 0.05\u001B[0m\n",
      "\u001B[32m17:42:52 - chessAI - INFO\u001B[0m \u001B[1;37mRead 80000 games. Valid: 4143, Invalid: 75856, Ratio: 0.05\u001B[0m\n",
      "\u001B[32m17:42:53 - chessAI - INFO\u001B[0m \u001B[1;37mRead 81000 games. Valid: 4191, Invalid: 76808, Ratio: 0.05\u001B[0m\n",
      "\u001B[32m17:42:54 - chessAI - INFO\u001B[0m \u001B[1;37mRead 82000 games. Valid: 4240, Invalid: 77759, Ratio: 0.05\u001B[0m\n",
      "\u001B[32m17:42:55 - chessAI - INFO\u001B[0m \u001B[1;37mRead 83000 games. Valid: 4281, Invalid: 78718, Ratio: 0.05\u001B[0m\n",
      "\u001B[32m17:42:56 - chessAI - INFO\u001B[0m \u001B[1;37mRead 84000 games. Valid: 4326, Invalid: 79673, Ratio: 0.05\u001B[0m\n",
      "\u001B[32m17:42:57 - chessAI - INFO\u001B[0m \u001B[1;37mRead 85000 games. Valid: 4372, Invalid: 80627, Ratio: 0.05\u001B[0m\n",
      "\u001B[32m17:42:58 - chessAI - INFO\u001B[0m \u001B[1;37mRead 86000 games. Valid: 4410, Invalid: 81589, Ratio: 0.05\u001B[0m\n",
      "\u001B[32m17:42:59 - chessAI - INFO\u001B[0m \u001B[1;37mRead 87000 games. Valid: 4460, Invalid: 82539, Ratio: 0.05\u001B[0m\n",
      "\u001B[32m17:43:00 - chessAI - INFO\u001B[0m \u001B[1;37mRead 88000 games. Valid: 4499, Invalid: 83500, Ratio: 0.05\u001B[0m\n",
      "\u001B[32m17:43:01 - chessAI - INFO\u001B[0m \u001B[1;37mRead 89000 games. Valid: 4547, Invalid: 84452, Ratio: 0.05\u001B[0m\n",
      "\u001B[32m17:43:02 - chessAI - INFO\u001B[0m \u001B[1;37mRead 90000 games. Valid: 4597, Invalid: 85402, Ratio: 0.05\u001B[0m\n",
      "\u001B[32m17:43:03 - chessAI - INFO\u001B[0m \u001B[1;37mRead 91000 games. Valid: 4649, Invalid: 86350, Ratio: 0.05\u001B[0m\n",
      "\u001B[32m17:43:04 - chessAI - INFO\u001B[0m \u001B[1;37mRead 92000 games. Valid: 4691, Invalid: 87308, Ratio: 0.05\u001B[0m\n",
      "\u001B[32m17:43:05 - chessAI - INFO\u001B[0m \u001B[1;37mRead 93000 games. Valid: 4740, Invalid: 88259, Ratio: 0.05\u001B[0m\n",
      "\u001B[32m17:43:06 - chessAI - INFO\u001B[0m \u001B[1;37mRead 94000 games. Valid: 4775, Invalid: 89224, Ratio: 0.05\u001B[0m\n",
      "\u001B[32m17:43:07 - chessAI - INFO\u001B[0m \u001B[1;37mRead 95000 games. Valid: 4827, Invalid: 90172, Ratio: 0.05\u001B[0m\n",
      "\u001B[32m17:43:08 - chessAI - INFO\u001B[0m \u001B[1;37mRead 96000 games. Valid: 4879, Invalid: 91120, Ratio: 0.05\u001B[0m\n",
      "\u001B[32m17:43:09 - chessAI - INFO\u001B[0m \u001B[1;37mRead 97000 games. Valid: 4923, Invalid: 92076, Ratio: 0.05\u001B[0m\n",
      "\u001B[32m17:43:10 - chessAI - INFO\u001B[0m \u001B[1;37mRead 98000 games. Valid: 4974, Invalid: 93025, Ratio: 0.05\u001B[0m\n",
      "\u001B[32m17:43:11 - chessAI - INFO\u001B[0m \u001B[1;37mRead 99000 games. Valid: 5029, Invalid: 93970, Ratio: 0.05\u001B[0m\n",
      "\u001B[32m17:43:12 - chessAI - INFO\u001B[0m \u001B[1;37mRead 100000 games. Valid: 5082, Invalid: 94917, Ratio: 0.05\u001B[0m\n",
      "\u001B[32m17:43:13 - chessAI - INFO\u001B[0m \u001B[1;37mRead 101000 games. Valid: 5131, Invalid: 95868, Ratio: 0.05\u001B[0m\n",
      "\u001B[32m17:43:14 - chessAI - INFO\u001B[0m \u001B[1;37mRead 102000 games. Valid: 5167, Invalid: 96832, Ratio: 0.05\u001B[0m\n",
      "\u001B[32m17:43:15 - chessAI - INFO\u001B[0m \u001B[1;37mRead 103000 games. Valid: 5210, Invalid: 97789, Ratio: 0.05\u001B[0m\n",
      "\u001B[32m17:43:16 - chessAI - INFO\u001B[0m \u001B[1;37mRead 104000 games. Valid: 5257, Invalid: 98742, Ratio: 0.05\u001B[0m\n",
      "\u001B[32m17:43:17 - chessAI - INFO\u001B[0m \u001B[1;37mRead 105000 games. Valid: 5309, Invalid: 99690, Ratio: 0.05\u001B[0m\n",
      "\u001B[32m17:43:17 - chessAI - INFO\u001B[0m \u001B[1;37mRead 106000 games. Valid: 5355, Invalid: 100644, Ratio: 0.05\u001B[0m\n",
      "\u001B[32m17:43:19 - chessAI - INFO\u001B[0m \u001B[1;37mRead 107000 games. Valid: 5399, Invalid: 101600, Ratio: 0.05\u001B[0m\n",
      "\u001B[32m17:43:20 - chessAI - INFO\u001B[0m \u001B[1;37mRead 108000 games. Valid: 5442, Invalid: 102557, Ratio: 0.05\u001B[0m\n",
      "\u001B[32m17:43:21 - chessAI - INFO\u001B[0m \u001B[1;37mRead 109000 games. Valid: 5499, Invalid: 103500, Ratio: 0.05\u001B[0m\n",
      "\u001B[32m17:43:22 - chessAI - INFO\u001B[0m \u001B[1;37mRead 110000 games. Valid: 5546, Invalid: 104453, Ratio: 0.05\u001B[0m\n",
      "\u001B[32m17:43:23 - chessAI - INFO\u001B[0m \u001B[1;37mRead 111000 games. Valid: 5596, Invalid: 105403, Ratio: 0.05\u001B[0m\n",
      "\u001B[32m17:43:24 - chessAI - INFO\u001B[0m \u001B[1;37mRead 112000 games. Valid: 5643, Invalid: 106356, Ratio: 0.05\u001B[0m\n",
      "\u001B[32m17:43:25 - chessAI - INFO\u001B[0m \u001B[1;37mRead 113000 games. Valid: 5691, Invalid: 107308, Ratio: 0.05\u001B[0m\n",
      "\u001B[32m17:43:26 - chessAI - INFO\u001B[0m \u001B[1;37mRead 114000 games. Valid: 5741, Invalid: 108258, Ratio: 0.05\u001B[0m\n",
      "\u001B[32m17:43:27 - chessAI - INFO\u001B[0m \u001B[1;37mRead 115000 games. Valid: 5786, Invalid: 109213, Ratio: 0.05\u001B[0m\n",
      "\u001B[32m17:43:28 - chessAI - INFO\u001B[0m \u001B[1;37mRead 116000 games. Valid: 5833, Invalid: 110166, Ratio: 0.05\u001B[0m\n",
      "\u001B[32m17:43:29 - chessAI - INFO\u001B[0m \u001B[1;37mRead 117000 games. Valid: 5884, Invalid: 111115, Ratio: 0.05\u001B[0m\n",
      "\u001B[32m17:43:30 - chessAI - INFO\u001B[0m \u001B[1;37mRead 118000 games. Valid: 5924, Invalid: 112075, Ratio: 0.05\u001B[0m\n",
      "\u001B[32m17:43:31 - chessAI - INFO\u001B[0m \u001B[1;37mRead 119000 games. Valid: 5970, Invalid: 113029, Ratio: 0.05\u001B[0m\n",
      "\u001B[32m17:43:32 - chessAI - INFO\u001B[0m \u001B[1;37mRead 120000 games. Valid: 6020, Invalid: 113979, Ratio: 0.05\u001B[0m\n",
      "\u001B[32m17:43:33 - chessAI - INFO\u001B[0m \u001B[1;37mRead 121000 games. Valid: 6072, Invalid: 114927, Ratio: 0.05\u001B[0m\n",
      "\u001B[32m17:43:34 - chessAI - INFO\u001B[0m \u001B[1;37mRead 122000 games. Valid: 6121, Invalid: 115878, Ratio: 0.05\u001B[0m\n",
      "\u001B[32m17:43:35 - chessAI - INFO\u001B[0m \u001B[1;37mRead 123000 games. Valid: 6165, Invalid: 116834, Ratio: 0.05\u001B[0m\n",
      "\u001B[32m17:43:36 - chessAI - INFO\u001B[0m \u001B[1;37mRead 124000 games. Valid: 6219, Invalid: 117780, Ratio: 0.05\u001B[0m\n",
      "\u001B[32m17:43:37 - chessAI - INFO\u001B[0m \u001B[1;37mRead 125000 games. Valid: 6270, Invalid: 118729, Ratio: 0.05\u001B[0m\n",
      "\u001B[32m17:43:38 - chessAI - INFO\u001B[0m \u001B[1;37mRead 126000 games. Valid: 6322, Invalid: 119677, Ratio: 0.05\u001B[0m\n",
      "\u001B[32m17:43:39 - chessAI - INFO\u001B[0m \u001B[1;37mRead 127000 games. Valid: 6373, Invalid: 120626, Ratio: 0.05\u001B[0m\n",
      "\u001B[32m17:43:40 - chessAI - INFO\u001B[0m \u001B[1;37mRead 128000 games. Valid: 6420, Invalid: 121579, Ratio: 0.05\u001B[0m\n",
      "\u001B[32m17:43:41 - chessAI - INFO\u001B[0m \u001B[1;37mRead 129000 games. Valid: 6465, Invalid: 122534, Ratio: 0.05\u001B[0m\n",
      "\u001B[32m17:43:42 - chessAI - INFO\u001B[0m \u001B[1;37mRead 130000 games. Valid: 6524, Invalid: 123475, Ratio: 0.05\u001B[0m\n",
      "\u001B[32m17:43:43 - chessAI - INFO\u001B[0m \u001B[1;37mRead 131000 games. Valid: 6572, Invalid: 124427, Ratio: 0.05\u001B[0m\n",
      "\u001B[32m17:43:44 - chessAI - INFO\u001B[0m \u001B[1;37mRead 132000 games. Valid: 6631, Invalid: 125368, Ratio: 0.05\u001B[0m\n",
      "\u001B[32m17:43:45 - chessAI - INFO\u001B[0m \u001B[1;37mRead 133000 games. Valid: 6678, Invalid: 126321, Ratio: 0.05\u001B[0m\n",
      "\u001B[32m17:43:46 - chessAI - INFO\u001B[0m \u001B[1;37mRead 134000 games. Valid: 6733, Invalid: 127266, Ratio: 0.05\u001B[0m\n",
      "\u001B[32m17:43:47 - chessAI - INFO\u001B[0m \u001B[1;37mRead 135000 games. Valid: 6776, Invalid: 128223, Ratio: 0.05\u001B[0m\n",
      "\u001B[32m17:43:48 - chessAI - INFO\u001B[0m \u001B[1;37mRead 136000 games. Valid: 6814, Invalid: 129185, Ratio: 0.05\u001B[0m\n",
      "\u001B[32m17:43:49 - chessAI - INFO\u001B[0m \u001B[1;37mRead 137000 games. Valid: 6855, Invalid: 130144, Ratio: 0.05\u001B[0m\n",
      "\u001B[32m17:43:50 - chessAI - INFO\u001B[0m \u001B[1;37mRead 138000 games. Valid: 6896, Invalid: 131103, Ratio: 0.05\u001B[0m\n",
      "\u001B[32m17:43:51 - chessAI - INFO\u001B[0m \u001B[1;37mRead 139000 games. Valid: 6950, Invalid: 132049, Ratio: 0.05\u001B[0m\n",
      "\u001B[32m17:43:52 - chessAI - INFO\u001B[0m \u001B[1;37mRead 140000 games. Valid: 6999, Invalid: 133000, Ratio: 0.05\u001B[0m\n",
      "\u001B[32m17:43:53 - chessAI - INFO\u001B[0m \u001B[1;37mRead 141000 games. Valid: 7041, Invalid: 133958, Ratio: 0.05\u001B[0m\n",
      "\u001B[32m17:43:54 - chessAI - INFO\u001B[0m \u001B[1;37mRead 142000 games. Valid: 7094, Invalid: 134905, Ratio: 0.05\u001B[0m\n",
      "\u001B[32m17:43:55 - chessAI - INFO\u001B[0m \u001B[1;37mRead 143000 games. Valid: 7139, Invalid: 135860, Ratio: 0.05\u001B[0m\n",
      "\u001B[32m17:43:56 - chessAI - INFO\u001B[0m \u001B[1;37mRead 144000 games. Valid: 7185, Invalid: 136814, Ratio: 0.05\u001B[0m\n",
      "\u001B[32m17:43:57 - chessAI - INFO\u001B[0m \u001B[1;37mRead 145000 games. Valid: 7242, Invalid: 137757, Ratio: 0.05\u001B[0m\n",
      "\u001B[32m17:43:58 - chessAI - INFO\u001B[0m \u001B[1;37mRead 146000 games. Valid: 7287, Invalid: 138712, Ratio: 0.05\u001B[0m\n",
      "\u001B[32m17:43:59 - chessAI - INFO\u001B[0m \u001B[1;37mRead 147000 games. Valid: 7336, Invalid: 139663, Ratio: 0.05\u001B[0m\n",
      "\u001B[32m17:44:00 - chessAI - INFO\u001B[0m \u001B[1;37mRead 148000 games. Valid: 7386, Invalid: 140613, Ratio: 0.05\u001B[0m\n",
      "\u001B[32m17:44:02 - chessAI - INFO\u001B[0m \u001B[1;37mRead 149000 games. Valid: 7423, Invalid: 141576, Ratio: 0.05\u001B[0m\n",
      "\u001B[32m17:44:03 - chessAI - INFO\u001B[0m \u001B[1;37mRead 150000 games. Valid: 7479, Invalid: 142520, Ratio: 0.05\u001B[0m\n",
      "\u001B[32m17:44:04 - chessAI - INFO\u001B[0m \u001B[1;37mRead 151000 games. Valid: 7534, Invalid: 143465, Ratio: 0.05\u001B[0m\n",
      "\u001B[32m17:44:05 - chessAI - INFO\u001B[0m \u001B[1;37mRead 152000 games. Valid: 7576, Invalid: 144423, Ratio: 0.05\u001B[0m\n",
      "\u001B[32m17:44:06 - chessAI - INFO\u001B[0m \u001B[1;37mRead 153000 games. Valid: 7622, Invalid: 145377, Ratio: 0.05\u001B[0m\n",
      "\u001B[32m17:44:07 - chessAI - INFO\u001B[0m \u001B[1;37mRead 154000 games. Valid: 7670, Invalid: 146329, Ratio: 0.05\u001B[0m\n",
      "\u001B[32m17:44:08 - chessAI - INFO\u001B[0m \u001B[1;37mRead 155000 games. Valid: 7717, Invalid: 147282, Ratio: 0.05\u001B[0m\n",
      "\u001B[32m17:44:09 - chessAI - INFO\u001B[0m \u001B[1;37mRead 156000 games. Valid: 7764, Invalid: 148235, Ratio: 0.05\u001B[0m\n",
      "\u001B[32m17:44:10 - chessAI - INFO\u001B[0m \u001B[1;37mRead 157000 games. Valid: 7809, Invalid: 149190, Ratio: 0.05\u001B[0m\n",
      "\u001B[32m17:44:11 - chessAI - INFO\u001B[0m \u001B[1;37mRead 158000 games. Valid: 7858, Invalid: 150141, Ratio: 0.05\u001B[0m\n",
      "\u001B[32m17:44:12 - chessAI - INFO\u001B[0m \u001B[1;37mRead 159000 games. Valid: 7919, Invalid: 151080, Ratio: 0.05\u001B[0m\n",
      "\u001B[32m17:44:13 - chessAI - INFO\u001B[0m \u001B[1;37mRead 160000 games. Valid: 7964, Invalid: 152035, Ratio: 0.05\u001B[0m\n",
      "\u001B[32m17:44:14 - chessAI - INFO\u001B[0m \u001B[1;37mRead 161000 games. Valid: 8013, Invalid: 152986, Ratio: 0.05\u001B[0m\n",
      "\u001B[32m17:44:15 - chessAI - INFO\u001B[0m \u001B[1;37mRead 162000 games. Valid: 8057, Invalid: 153942, Ratio: 0.05\u001B[0m\n",
      "\u001B[32m17:44:16 - chessAI - INFO\u001B[0m \u001B[1;37mRead 163000 games. Valid: 8109, Invalid: 154890, Ratio: 0.05\u001B[0m\n",
      "\u001B[32m17:44:17 - chessAI - INFO\u001B[0m \u001B[1;37mRead 164000 games. Valid: 8160, Invalid: 155839, Ratio: 0.05\u001B[0m\n",
      "\u001B[32m17:44:18 - chessAI - INFO\u001B[0m \u001B[1;37mRead 165000 games. Valid: 8205, Invalid: 156794, Ratio: 0.05\u001B[0m\n",
      "\u001B[32m17:44:19 - chessAI - INFO\u001B[0m \u001B[1;37mRead 166000 games. Valid: 8259, Invalid: 157740, Ratio: 0.05\u001B[0m\n",
      "\u001B[32m17:44:20 - chessAI - INFO\u001B[0m \u001B[1;37mRead 167000 games. Valid: 8316, Invalid: 158683, Ratio: 0.05\u001B[0m\n",
      "\u001B[32m17:44:21 - chessAI - INFO\u001B[0m \u001B[1;37mRead 168000 games. Valid: 8371, Invalid: 159628, Ratio: 0.05\u001B[0m\n",
      "\u001B[32m17:44:23 - chessAI - INFO\u001B[0m \u001B[1;37mRead 169000 games. Valid: 8432, Invalid: 160567, Ratio: 0.05\u001B[0m\n",
      "\u001B[32m17:44:24 - chessAI - INFO\u001B[0m \u001B[1;37mRead 170000 games. Valid: 8505, Invalid: 161494, Ratio: 0.05\u001B[0m\n",
      "\u001B[32m17:44:25 - chessAI - INFO\u001B[0m \u001B[1;37mRead 171000 games. Valid: 8565, Invalid: 162434, Ratio: 0.05\u001B[0m\n",
      "\u001B[32m17:44:27 - chessAI - INFO\u001B[0m \u001B[1;37mRead 172000 games. Valid: 8617, Invalid: 163382, Ratio: 0.05\u001B[0m\n",
      "\u001B[32m17:44:28 - chessAI - INFO\u001B[0m \u001B[1;37mRead 173000 games. Valid: 8666, Invalid: 164333, Ratio: 0.05\u001B[0m\n",
      "\u001B[32m17:44:29 - chessAI - INFO\u001B[0m \u001B[1;37mRead 174000 games. Valid: 8717, Invalid: 165282, Ratio: 0.05\u001B[0m\n",
      "\u001B[32m17:44:30 - chessAI - INFO\u001B[0m \u001B[1;37mRead 175000 games. Valid: 8769, Invalid: 166230, Ratio: 0.05\u001B[0m\n",
      "\u001B[32m17:44:31 - chessAI - INFO\u001B[0m \u001B[1;37mRead 176000 games. Valid: 8821, Invalid: 167178, Ratio: 0.05\u001B[0m\n",
      "\u001B[32m17:44:32 - chessAI - INFO\u001B[0m \u001B[1;37mRead 177000 games. Valid: 8884, Invalid: 168115, Ratio: 0.05\u001B[0m\n",
      "\u001B[32m17:44:33 - chessAI - INFO\u001B[0m \u001B[1;37mRead 178000 games. Valid: 8936, Invalid: 169063, Ratio: 0.05\u001B[0m\n",
      "\u001B[32m17:44:35 - chessAI - INFO\u001B[0m \u001B[1;37mRead 179000 games. Valid: 8991, Invalid: 170008, Ratio: 0.05\u001B[0m\n",
      "\u001B[32m17:44:37 - chessAI - INFO\u001B[0m \u001B[1;37mRead 180000 games. Valid: 9039, Invalid: 170960, Ratio: 0.05\u001B[0m\n",
      "\u001B[32m17:44:38 - chessAI - INFO\u001B[0m \u001B[1;37mRead 181000 games. Valid: 9091, Invalid: 171908, Ratio: 0.05\u001B[0m\n",
      "\u001B[32m17:44:41 - chessAI - INFO\u001B[0m \u001B[1;37mRead 182000 games. Valid: 9140, Invalid: 172859, Ratio: 0.05\u001B[0m\n",
      "\u001B[32m17:44:42 - chessAI - INFO\u001B[0m \u001B[1;37mRead 183000 games. Valid: 9189, Invalid: 173810, Ratio: 0.05\u001B[0m\n",
      "\u001B[32m17:44:43 - chessAI - INFO\u001B[0m \u001B[1;37mRead 184000 games. Valid: 9238, Invalid: 174761, Ratio: 0.05\u001B[0m\n",
      "\u001B[32m17:44:44 - chessAI - INFO\u001B[0m \u001B[1;37mRead 185000 games. Valid: 9290, Invalid: 175709, Ratio: 0.05\u001B[0m\n",
      "\u001B[32m17:44:45 - chessAI - INFO\u001B[0m \u001B[1;37mRead 186000 games. Valid: 9342, Invalid: 176657, Ratio: 0.05\u001B[0m\n",
      "\u001B[32m17:44:46 - chessAI - INFO\u001B[0m \u001B[1;37mRead 187000 games. Valid: 9401, Invalid: 177598, Ratio: 0.05\u001B[0m\n",
      "\u001B[32m17:44:48 - chessAI - INFO\u001B[0m \u001B[1;37mRead 188000 games. Valid: 9439, Invalid: 178560, Ratio: 0.05\u001B[0m\n",
      "\u001B[32m17:44:49 - chessAI - INFO\u001B[0m \u001B[1;37mRead 189000 games. Valid: 9482, Invalid: 179517, Ratio: 0.05\u001B[0m\n",
      "\u001B[32m17:44:50 - chessAI - INFO\u001B[0m \u001B[1;37mRead 190000 games. Valid: 9532, Invalid: 180467, Ratio: 0.05\u001B[0m\n",
      "\u001B[32m17:44:51 - chessAI - INFO\u001B[0m \u001B[1;37mRead 191000 games. Valid: 9582, Invalid: 181417, Ratio: 0.05\u001B[0m\n",
      "\u001B[32m17:44:52 - chessAI - INFO\u001B[0m \u001B[1;37mRead 192000 games. Valid: 9620, Invalid: 182379, Ratio: 0.05\u001B[0m\n",
      "\u001B[32m17:44:54 - chessAI - INFO\u001B[0m \u001B[1;37mRead 193000 games. Valid: 9681, Invalid: 183318, Ratio: 0.05\u001B[0m\n",
      "\u001B[32m17:44:55 - chessAI - INFO\u001B[0m \u001B[1;37mRead 194000 games. Valid: 9737, Invalid: 184262, Ratio: 0.05\u001B[0m\n",
      "\u001B[32m17:44:56 - chessAI - INFO\u001B[0m \u001B[1;37mRead 195000 games. Valid: 9772, Invalid: 185227, Ratio: 0.05\u001B[0m\n",
      "\u001B[32m17:44:57 - chessAI - INFO\u001B[0m \u001B[1;37mRead 196000 games. Valid: 9797, Invalid: 186202, Ratio: 0.05\u001B[0m\n",
      "\u001B[32m17:44:58 - chessAI - INFO\u001B[0m \u001B[1;37mRead 197000 games. Valid: 9832, Invalid: 187167, Ratio: 0.05\u001B[0m\n",
      "\u001B[32m17:44:59 - chessAI - INFO\u001B[0m \u001B[1;37mRead 198000 games. Valid: 9870, Invalid: 188129, Ratio: 0.05\u001B[0m\n",
      "\u001B[32m17:45:01 - chessAI - INFO\u001B[0m \u001B[1;37mRead 199000 games. Valid: 9913, Invalid: 189086, Ratio: 0.05\u001B[0m\n",
      "\u001B[32m17:45:02 - chessAI - INFO\u001B[0m \u001B[1;37mRead 200000 games. Valid: 9958, Invalid: 190041, Ratio: 0.05\u001B[0m\n",
      "\u001B[32m17:45:04 - chessAI - INFO\u001B[0m \u001B[1;37mPreprocessing 10000 games...\u001B[0m\n",
      "\u001B[32m17:45:07 - chessAI - INFO\u001B[0m \u001B[1;37mPreprocessed 500 games\u001B[0m\n",
      "\u001B[32m17:45:09 - chessAI - INFO\u001B[0m \u001B[1;37mPreprocessed 1000 games\u001B[0m\n",
      "\u001B[32m17:45:11 - chessAI - INFO\u001B[0m \u001B[1;37mPreprocessed 1500 games\u001B[0m\n",
      "\u001B[32m17:45:14 - chessAI - INFO\u001B[0m \u001B[1;37mPreprocessed 2000 games\u001B[0m\n",
      "\u001B[32m17:45:16 - chessAI - INFO\u001B[0m \u001B[1;37mPreprocessed 2500 games\u001B[0m\n",
      "\u001B[32m17:45:18 - chessAI - INFO\u001B[0m \u001B[1;37mPreprocessed 3000 games\u001B[0m\n",
      "\u001B[32m17:45:20 - chessAI - INFO\u001B[0m \u001B[1;37mPreprocessed 3500 games\u001B[0m\n",
      "\u001B[32m17:45:23 - chessAI - INFO\u001B[0m \u001B[1;37mPreprocessed 4000 games\u001B[0m\n",
      "\u001B[32m17:45:25 - chessAI - INFO\u001B[0m \u001B[1;37mPreprocessed 4500 games\u001B[0m\n",
      "\u001B[32m17:45:27 - chessAI - INFO\u001B[0m \u001B[1;37mPreprocessed 5000 games\u001B[0m\n",
      "\u001B[32m17:45:29 - chessAI - INFO\u001B[0m \u001B[1;37mPreprocessed 5500 games\u001B[0m\n",
      "\u001B[32m17:45:31 - chessAI - INFO\u001B[0m \u001B[1;37mPreprocessed 6000 games\u001B[0m\n",
      "\u001B[32m17:45:33 - chessAI - INFO\u001B[0m \u001B[1;37mPreprocessed 6500 games\u001B[0m\n",
      "\u001B[32m17:45:35 - chessAI - INFO\u001B[0m \u001B[1;37mPreprocessed 7000 games\u001B[0m\n",
      "\u001B[32m17:45:37 - chessAI - INFO\u001B[0m \u001B[1;37mPreprocessed 7500 games\u001B[0m\n",
      "\u001B[32m17:45:39 - chessAI - INFO\u001B[0m \u001B[1;37mPreprocessed 8000 games\u001B[0m\n",
      "\u001B[32m17:45:41 - chessAI - INFO\u001B[0m \u001B[1;37mPreprocessed 8500 games\u001B[0m\n",
      "\u001B[32m17:45:43 - chessAI - INFO\u001B[0m \u001B[1;37mPreprocessed 9000 games\u001B[0m\n",
      "\u001B[32m17:45:45 - chessAI - INFO\u001B[0m \u001B[1;37mPreprocessed 9500 games\u001B[0m\n",
      "\u001B[32m17:45:47 - chessAI - INFO\u001B[0m \u001B[1;37mPreprocessed 10000 games\u001B[0m\n",
      "\u001B[32m17:45:47 - chessAI - INFO\u001B[0m \u001B[1;37mSplitting 10000 games into train and test (test size: 0.2)...\u001B[0m\n"
     ]
    },
    {
     "name": "stderr",
     "output_type": "stream",
     "text": [
      "hffs-iakq023j: 100%|██████████| 8.94M/8.94M [00:02<00:00, 3.34MB/s]\n",
      "hffs-az0kmth2: 100%|██████████| 2.27M/2.27M [00:00<00:00, 3.48MB/s]\n"
     ]
    },
    {
     "name": "stdout",
     "output_type": "stream",
     "text": [
      "\u001B[32m17:45:52 - chessAI - INFO\u001B[0m \u001B[1;37mSuccessfully initialized ChessDataset\u001B[0m\n"
     ]
    }
   ],
   "source": [
    "import torch\n",
    "import torch.nn as nn\n",
    "import torch.optim as optim\n",
    "from torch.utils.data import TensorDataset, DataLoader\n",
    "import numpy as np\n",
    "\n",
    "from src.dataset.chess_dataframe import ChessDataFrame, Sizes\n",
    "from logging_config import setup_logging\n",
    "\n",
    "# Setup logging\n",
    "logger = setup_logging()\n",
    "\n",
    "device = torch.device(\"mps\" if torch.backends.mps.is_available() else \"cuda\" if torch.cuda.is_available() else \"cpu\")\n",
    "logger.info(f\"Using device: {device}\")\n",
    "\n",
    "# I need to make csv batches of data and uploads it to huggingface\n",
    "dataset = ChessDataFrame(size=Sizes.smol)\n",
    "logger.info(\"Successfully initialized ChessDataset\")"
   ]
  },
  {
   "cell_type": "code",
   "execution_count": 11,
   "id": "2ddbb98300acfd5e",
   "metadata": {
    "ExecuteTime": {
     "end_time": "2024-12-07T22:47:19.551028Z",
     "start_time": "2024-12-07T22:47:19.531306Z"
    }
   },
   "outputs": [
    {
     "data": {
      "text/plain": [
       "9254    [rnbqkbnr/pppppppp/8/8/8/5N2/PPPPPPPP/RNBQKB1R...\n",
       "1561    [rnbqkbnr/pppppppp/8/8/4P3/8/PPPP1PPP/RNBQKBNR...\n",
       "1670    [rnbqkbnr/pppppppp/8/8/4P3/8/PPPP1PPP/RNBQKBNR...\n",
       "6087    [rnbqkbnr/pppppppp/8/8/4P3/8/PPPP1PPP/RNBQKBNR...\n",
       "6669    [rnbqkbnr/pppppppp/8/8/4P3/8/PPPP1PPP/RNBQKBNR...\n",
       "                              ...                        \n",
       "5734    [rnbqkbnr/pppppppp/8/8/4P3/8/PPPP1PPP/RNBQKBNR...\n",
       "5191    [rnbqkbnr/pppppppp/8/8/8/5N2/PPPPPPPP/RNBQKB1R...\n",
       "5390    [rnbqkbnr/pppppppp/8/8/4P3/8/PPPP1PPP/RNBQKBNR...\n",
       "860     [rnbqkbnr/pppppppp/8/8/3P4/8/PPP1PPPP/RNBQKBNR...\n",
       "7270    [rnbqkbnr/pppppppp/8/8/3P4/8/PPP1PPPP/RNBQKBNR...\n",
       "Name: Board, Length: 8000, dtype: object"
      ]
     },
     "execution_count": 11,
     "metadata": {},
     "output_type": "execute_result"
    }
   ],
   "source": [
    "dataset.df_train[\"Board\"]"
   ]
  },
  {
   "cell_type": "code",
   "id": "8c5b1415",
   "metadata": {
    "ExecuteTime": {
     "end_time": "2024-12-08T00:04:21.245094Z",
     "start_time": "2024-12-08T00:04:18.292404Z"
    }
   },
   "source": [
    "from src.dataset.helpers import board_fen_to_image\n",
    "\n",
    "def arr_to_imgs(arr):\n",
    "    return [board_fen_to_image(x) for x in arr]\n",
    "\n",
    "def afloat(arr):\n",
    "    return [float(x) for x in arr]\n",
    "\n",
    "train_X = np.concatenate(dataset.df_train[\"Board\"].apply(arr_to_imgs).to_numpy())\n",
    "test_X = np.concatenate(dataset.df_test[\"Board\"].apply(arr_to_imgs).to_numpy())\n",
    "train_Y = np.clip(\n",
    "    np.concatenate(dataset.df_train[\"Eval\"].apply(afloat).to_numpy(), dtype=np.float32),\n",
    "    -20,\n",
    "    20\n",
    ") / 20.0  # Normalize to [-1, 1] by dividing by max magnitude\n",
    "\n",
    "test_Y = np.clip(\n",
    "    np.concatenate(dataset.df_test[\"Eval\"].apply(afloat).to_numpy(), dtype=np.float32), \n",
    "    -20,\n",
    "    20\n",
    ") / 20.0  # Normalize to [-1, 1] by dividing by max magnitude\n"
   ],
   "outputs": [],
   "execution_count": 40
  },
  {
   "cell_type": "code",
   "id": "2d73f2e8",
   "metadata": {
    "ExecuteTime": {
     "end_time": "2024-12-08T00:04:23.415170Z",
     "start_time": "2024-12-08T00:04:23.165089Z"
    }
   },
   "source": [
    "import matplotlib.pyplot as plt\n",
    "\n",
    "# Create a figure with two subplots side by side\n",
    "plt.figure(figsize=(15, 5))\n",
    "\n",
    "# Training data distribution\n",
    "plt.subplot(1, 2, 1)\n",
    "plt.hist(train_Y, bins=50, density=True, alpha=0.7)\n",
    "plt.title('Distribution of Evaluation Scores (Training Set)')\n",
    "plt.xlabel('Evaluation Score')\n",
    "plt.ylabel('Density')\n",
    "\n",
    "# Test data distribution\n",
    "plt.subplot(1, 2, 2)\n",
    "plt.hist(test_Y, bins=50, density=True, alpha=0.7)\n",
    "plt.title('Distribution of Evaluation Scores (Test Set)')\n",
    "plt.xlabel('Evaluation Score')\n",
    "plt.ylabel('Density')\n",
    "\n",
    "plt.tight_layout()\n",
    "plt.show()\n",
    "\n",
    "# Print some basic statistics\n",
    "print(\"\\nTraining Set Statistics:\")\n",
    "print(f\"Mean: {np.mean(train_Y):.3f}\")\n",
    "print(f\"Std: {np.std(train_Y):.3f}\")\n",
    "print(f\"Min: {np.min(train_Y):.3f}\")\n",
    "print(f\"Max: {np.max(train_Y):.3f}\")\n",
    "\n",
    "print(\"\\nTest Set Statistics:\")\n",
    "print(f\"Mean: {np.mean(test_Y):.3f}\")\n",
    "print(f\"Std: {np.std(test_Y):.3f}\")\n",
    "print(f\"Min: {np.min(test_Y):.3f}\")\n",
    "print(f\"Max: {np.max(test_Y):.3f}\")"
   ],
   "outputs": [
    {
     "data": {
      "text/plain": [
       "<Figure size 1500x500 with 2 Axes>"
      ],
      "image/png": "[encoded data removed]"
     },
     "metadata": {},
     "output_type": "display_data"
    },
    {
     "name": "stdout",
     "output_type": "stream",
     "text": [
      "\n",
      "Training Set Statistics:\n",
      "Mean: 0.014\n",
      "Std: 0.305\n",
      "Min: -1.000\n",
      "Max: 1.000\n",
      "\n",
      "Test Set Statistics:\n",
      "Mean: 0.014\n",
      "Std: 0.303\n",
      "Min: -1.000\n",
      "Max: 1.000\n"
     ]
    }
   ],
   "execution_count": 41
  },
  {
   "cell_type": "code",
   "id": "885b6edf",
   "metadata": {
    "ExecuteTime": {
     "end_time": "2024-12-08T00:04:43.114088Z",
     "start_time": "2024-12-08T00:04:43.106365Z"
    }
   },
   "source": [
    "train_X.shape"
   ],
   "outputs": [
    {
     "data": {
      "text/plain": [
       "(367006, 12, 8, 8)"
      ]
     },
     "execution_count": 42,
     "metadata": {},
     "output_type": "execute_result"
    }
   ],
   "execution_count": 42
  },
  {
   "cell_type": "code",
   "id": "7b0642d4",
   "metadata": {
    "ExecuteTime": {
     "end_time": "2024-12-08T00:04:45.473883Z",
     "start_time": "2024-12-08T00:04:45.461308Z"
    }
   },
   "source": [
    "train_Y.shape"
   ],
   "outputs": [
    {
     "data": {
      "text/plain": [
       "(367006,)"
      ]
     },
     "execution_count": 43,
     "metadata": {},
     "output_type": "execute_result"
    }
   ],
   "execution_count": 43
  },
  {
   "cell_type": "code",
   "execution_count": 15,
   "id": "58464af1",
   "metadata": {
    "ExecuteTime": {
     "end_time": "2024-12-07T22:47:34.623767Z",
     "start_time": "2024-12-07T22:47:34.620596Z"
    }
   },
   "outputs": [
    {
     "data": {
      "text/plain": [
       "np.float32(0.17)"
      ]
     },
     "execution_count": 15,
     "metadata": {},
     "output_type": "execute_result"
    }
   ],
   "source": [
    "train_Y[0]"
   ]
  },
  {
   "cell_type": "code",
   "execution_count": 16,
   "id": "eb7ca2e34fb41961",
   "metadata": {
    "ExecuteTime": {
     "end_time": "2024-12-07T22:47:38.601938Z",
     "start_time": "2024-12-07T22:47:38.596661Z"
    }
   },
   "outputs": [
    {
     "data": {
      "text/plain": [
       "array([[[0, 0, 0, 0, 0, 0, 0, 0],\n",
       "        [0, 0, 0, 0, 0, 0, 0, 0],\n",
       "        [0, 0, 0, 0, 0, 0, 0, 0],\n",
       "        [0, 0, 0, 0, 0, 0, 0, 0],\n",
       "        [0, 0, 0, 0, 0, 0, 0, 0],\n",
       "        [0, 0, 0, 0, 0, 0, 0, 0],\n",
       "        [1, 1, 1, 1, 1, 1, 1, 1],\n",
       "        [0, 0, 0, 0, 0, 0, 0, 0]],\n",
       "\n",
       "       [[0, 0, 0, 0, 0, 0, 0, 0],\n",
       "        [0, 0, 0, 0, 0, 0, 0, 0],\n",
       "        [0, 0, 0, 0, 0, 0, 0, 0],\n",
       "        [0, 0, 0, 0, 0, 0, 0, 0],\n",
       "        [0, 0, 0, 0, 0, 0, 0, 0],\n",
       "        [0, 0, 0, 0, 0, 1, 0, 0],\n",
       "        [0, 0, 0, 0, 0, 0, 0, 0],\n",
       "        [0, 1, 0, 0, 0, 0, 0, 0]],\n",
       "\n",
       "       [[0, 0, 0, 0, 0, 0, 0, 0],\n",
       "        [0, 0, 0, 0, 0, 0, 0, 0],\n",
       "        [0, 0, 0, 0, 0, 0, 0, 0],\n",
       "        [0, 0, 0, 0, 0, 0, 0, 0],\n",
       "        [0, 0, 0, 0, 0, 0, 0, 0],\n",
       "        [0, 0, 0, 0, 0, 0, 0, 0],\n",
       "        [0, 0, 0, 0, 0, 0, 0, 0],\n",
       "        [0, 0, 1, 0, 0, 1, 0, 0]],\n",
       "\n",
       "       [[0, 0, 0, 0, 0, 0, 0, 0],\n",
       "        [0, 0, 0, 0, 0, 0, 0, 0],\n",
       "        [0, 0, 0, 0, 0, 0, 0, 0],\n",
       "        [0, 0, 0, 0, 0, 0, 0, 0],\n",
       "        [0, 0, 0, 0, 0, 0, 0, 0],\n",
       "        [0, 0, 0, 0, 0, 0, 0, 0],\n",
       "        [0, 0, 0, 0, 0, 0, 0, 0],\n",
       "        [1, 0, 0, 0, 0, 0, 0, 1]],\n",
       "\n",
       "       [[0, 0, 0, 0, 0, 0, 0, 0],\n",
       "        [0, 0, 0, 0, 0, 0, 0, 0],\n",
       "        [0, 0, 0, 0, 0, 0, 0, 0],\n",
       "        [0, 0, 0, 0, 0, 0, 0, 0],\n",
       "        [0, 0, 0, 0, 0, 0, 0, 0],\n",
       "        [0, 0, 0, 0, 0, 0, 0, 0],\n",
       "        [0, 0, 0, 0, 0, 0, 0, 0],\n",
       "        [0, 0, 0, 1, 0, 0, 0, 0]],\n",
       "\n",
       "       [[0, 0, 0, 0, 0, 0, 0, 0],\n",
       "        [0, 0, 0, 0, 0, 0, 0, 0],\n",
       "        [0, 0, 0, 0, 0, 0, 0, 0],\n",
       "        [0, 0, 0, 0, 0, 0, 0, 0],\n",
       "        [0, 0, 0, 0, 0, 0, 0, 0],\n",
       "        [0, 0, 0, 0, 0, 0, 0, 0],\n",
       "        [0, 0, 0, 0, 0, 0, 0, 0],\n",
       "        [0, 0, 0, 0, 1, 0, 0, 0]],\n",
       "\n",
       "       [[0, 0, 0, 0, 0, 0, 0, 0],\n",
       "        [1, 1, 1, 1, 1, 1, 1, 1],\n",
       "        [0, 0, 0, 0, 0, 0, 0, 0],\n",
       "        [0, 0, 0, 0, 0, 0, 0, 0],\n",
       "        [0, 0, 0, 0, 0, 0, 0, 0],\n",
       "        [0, 0, 0, 0, 0, 0, 0, 0],\n",
       "        [0, 0, 0, 0, 0, 0, 0, 0],\n",
       "        [0, 0, 0, 0, 0, 0, 0, 0]],\n",
       "\n",
       "       [[0, 1, 0, 0, 0, 0, 1, 0],\n",
       "        [0, 0, 0, 0, 0, 0, 0, 0],\n",
       "        [0, 0, 0, 0, 0, 0, 0, 0],\n",
       "        [0, 0, 0, 0, 0, 0, 0, 0],\n",
       "        [0, 0, 0, 0, 0, 0, 0, 0],\n",
       "        [0, 0, 0, 0, 0, 0, 0, 0],\n",
       "        [0, 0, 0, 0, 0, 0, 0, 0],\n",
       "        [0, 0, 0, 0, 0, 0, 0, 0]],\n",
       "\n",
       "       [[0, 0, 1, 0, 0, 1, 0, 0],\n",
       "        [0, 0, 0, 0, 0, 0, 0, 0],\n",
       "        [0, 0, 0, 0, 0, 0, 0, 0],\n",
       "        [0, 0, 0, 0, 0, 0, 0, 0],\n",
       "        [0, 0, 0, 0, 0, 0, 0, 0],\n",
       "        [0, 0, 0, 0, 0, 0, 0, 0],\n",
       "        [0, 0, 0, 0, 0, 0, 0, 0],\n",
       "        [0, 0, 0, 0, 0, 0, 0, 0]],\n",
       "\n",
       "       [[1, 0, 0, 0, 0, 0, 0, 1],\n",
       "        [0, 0, 0, 0, 0, 0, 0, 0],\n",
       "        [0, 0, 0, 0, 0, 0, 0, 0],\n",
       "        [0, 0, 0, 0, 0, 0, 0, 0],\n",
       "        [0, 0, 0, 0, 0, 0, 0, 0],\n",
       "        [0, 0, 0, 0, 0, 0, 0, 0],\n",
       "        [0, 0, 0, 0, 0, 0, 0, 0],\n",
       "        [0, 0, 0, 0, 0, 0, 0, 0]],\n",
       "\n",
       "       [[0, 0, 0, 1, 0, 0, 0, 0],\n",
       "        [0, 0, 0, 0, 0, 0, 0, 0],\n",
       "        [0, 0, 0, 0, 0, 0, 0, 0],\n",
       "        [0, 0, 0, 0, 0, 0, 0, 0],\n",
       "        [0, 0, 0, 0, 0, 0, 0, 0],\n",
       "        [0, 0, 0, 0, 0, 0, 0, 0],\n",
       "        [0, 0, 0, 0, 0, 0, 0, 0],\n",
       "        [0, 0, 0, 0, 0, 0, 0, 0]],\n",
       "\n",
       "       [[0, 0, 0, 0, 1, 0, 0, 0],\n",
       "        [0, 0, 0, 0, 0, 0, 0, 0],\n",
       "        [0, 0, 0, 0, 0, 0, 0, 0],\n",
       "        [0, 0, 0, 0, 0, 0, 0, 0],\n",
       "        [0, 0, 0, 0, 0, 0, 0, 0],\n",
       "        [0, 0, 0, 0, 0, 0, 0, 0],\n",
       "        [0, 0, 0, 0, 0, 0, 0, 0],\n",
       "        [0, 0, 0, 0, 0, 0, 0, 0]]], dtype=int8)"
      ]
     },
     "execution_count": 16,
     "metadata": {},
     "output_type": "execute_result"
    }
   ],
   "source": [
    "train_X[0]"
   ]
  },
  {
   "cell_type": "code",
   "execution_count": null,
   "id": "b1a23796",
   "metadata": {},
   "outputs": [],
   "source": []
  },
  {
   "cell_type": "code",
   "id": "1ad65bb250ea4f88",
   "metadata": {
    "ExecuteTime": {
     "end_time": "2024-12-08T00:15:16.521486Z",
     "start_time": "2024-12-08T00:04:49.852854Z"
    }
   },
   "source": [
    "class ChessEvalNet(nn.Module):\n",
    "    def __init__(self):\n",
    "        super(ChessEvalNet, self).__init__()\n",
    "        \n",
    "        # Convolutional layers\n",
    "        self.conv1 = nn.Conv2d(12, 64, kernel_size=3, padding=1)\n",
    "        self.conv2 = nn.Conv2d(64, 128, kernel_size=3, padding=1)\n",
    "        self.conv3 = nn.Conv2d(128, 256, kernel_size=3, padding=1)\n",
    "        \n",
    "        # Batch normalization layers\n",
    "        self.bn1 = nn.BatchNorm2d(64)\n",
    "        self.bn2 = nn.BatchNorm2d(128)\n",
    "        self.bn3 = nn.BatchNorm2d(256)\n",
    "        \n",
    "        # Fully connected layers\n",
    "        self.fc1 = nn.Linear(256 * 8 * 8, 512)\n",
    "        self.fc2 = nn.Linear(512, 256)\n",
    "        self.fc3 = nn.Linear(256, 1)\n",
    "        \n",
    "        self.relu = nn.ReLU()\n",
    "        self.dropout = nn.Dropout(0.2)\n",
    "\n",
    "    def forward(self, x):\n",
    "        # Convolutional blocks\n",
    "        x = self.relu(self.bn1(self.conv1(x)))\n",
    "        x = self.relu(self.bn2(self.conv2(x)))\n",
    "        x = self.relu(self.bn3(self.conv3(x)))\n",
    "        \n",
    "        # Flatten and fully connected layers\n",
    "        x = x.view(-1, 256 * 8 * 8)\n",
    "        x = self.dropout(self.relu(self.fc1(x)))\n",
    "        x = self.dropout(self.relu(self.fc2(x)))\n",
    "        x = self.fc3(x)\n",
    "        \n",
    "        return x\n",
    "\n",
    "# Create model and move to device\n",
    "model = ChessEvalNet().to(device)\n",
    "\n",
    "# Convert data to tensors and create DataLoader\n",
    "X_train = torch.FloatTensor(train_X).to(device)\n",
    "y_train = torch.FloatTensor(train_Y).to(device)\n",
    "X_test = torch.FloatTensor(test_X).to(device)\n",
    "y_test = torch.FloatTensor(test_Y).to(device)\n",
    "\n",
    "train_dataset = TensorDataset(X_train, y_train)\n",
    "test_dataset = TensorDataset(X_test, y_test)\n",
    "train_loader = DataLoader(train_dataset, batch_size=64, shuffle=True)\n",
    "test_loader = DataLoader(test_dataset, batch_size=64, shuffle=False)\n",
    "\n",
    "\n",
    "# Loss function and optimizer\n",
    "criterion = nn.MSELoss()\n",
    "optimizer = optim.Adam(model.parameters(), lr=0.001)\n",
    "\n",
    "\n",
    "def evaluate_model(model_to_eval, data_loader_eval):\n",
    "    model_to_eval.eval()\n",
    "    eval_total_loss = 0\n",
    "    with torch.no_grad():\n",
    "        for batch_x, batch_Y in data_loader_eval:\n",
    "            batch_outputs = model_to_eval(batch_x)\n",
    "            batch_loss = criterion(batch_outputs.squeeze(), batch_Y)\n",
    "            eval_total_loss += batch_loss.item()\n",
    "    return eval_total_loss / len(data_loader_eval)\n",
    "\n",
    "# Training loop\n",
    "num_epochs = 10\n",
    "for epoch in range(num_epochs):\n",
    "    # Training phase\n",
    "    model.train()\n",
    "    total_loss = 0\n",
    "    for batch_X, batch_y in train_loader:\n",
    "        optimizer.zero_grad()\n",
    "        outputs = model(batch_X)\n",
    "        loss = criterion(outputs.squeeze(), batch_y)\n",
    "        loss.backward()\n",
    "        optimizer.step()\n",
    "        total_loss += loss.item()\n",
    "    \n",
    "    # Calculate losses\n",
    "    train_loss = total_loss / len(train_loader)\n",
    "    test_loss = evaluate_model(model, test_loader)\n",
    "    \n",
    "    # Print epoch statistics\n",
    "    logger.info(f'Epoch [{epoch+1}/{num_epochs}], Train Loss: {train_loss:.4f}, Test Loss: {test_loss:.4f}')"
   ],
   "outputs": [
    {
     "name": "stdout",
     "output_type": "stream",
     "text": [
      "\u001B[32m19:06:33 - chessAI - INFO\u001B[0m \u001B[1;37mEpoch [1/10], Train Loss: 0.0537, Test Loss: 0.0463\u001B[0m\n",
      "\u001B[32m19:08:09 - chessAI - INFO\u001B[0m \u001B[1;37mEpoch [2/10], Train Loss: 0.0365, Test Loss: 0.0402\u001B[0m\n",
      "\u001B[32m19:09:46 - chessAI - INFO\u001B[0m \u001B[1;37mEpoch [3/10], Train Loss: 0.0331, Test Loss: 0.0381\u001B[0m\n",
      "\u001B[32m19:11:28 - chessAI - INFO\u001B[0m \u001B[1;37mEpoch [4/10], Train Loss: 0.0300, Test Loss: 0.0404\u001B[0m\n",
      "\u001B[32m19:12:58 - chessAI - INFO\u001B[0m \u001B[1;37mEpoch [5/10], Train Loss: 0.0271, Test Loss: 0.0372\u001B[0m\n",
      "\u001B[32m19:15:10 - chessAI - INFO\u001B[0m \u001B[1;37mEpoch [6/10], Train Loss: 0.0247, Test Loss: 0.0405\u001B[0m\n"
     ]
    },
    {
     "name": "stderr",
     "output_type": "stream",
     "text": [
      "\n",
      "KeyboardInterrupt\n",
      "\n"
     ]
    }
   ],
   "execution_count": 44
  },
  {
   "cell_type": "code",
   "execution_count": 24,
   "id": "aaca74781f58dff8",
   "metadata": {
    "ExecuteTime": {
     "end_time": "2024-12-07T23:54:10.847189Z",
     "start_time": "2024-12-07T23:53:17.264822Z"
    }
   },
   "outputs": [
    {
     "name": "stdout",
     "output_type": "stream",
     "text": [
      "\u001B[32m18:54:10 - chessAI - INFO\u001B[0m \u001B[1;37mTraining Set Metrics:\u001B[0m\n",
      "\u001B[32m18:54:10 - chessAI - INFO\u001B[0m \u001B[1;37mMAE: 2.9221\u001B[0m\n",
      "\u001B[32m18:54:10 - chessAI - INFO\u001B[0m \u001B[1;37mRMSE: 8.5366\u001B[0m\n",
      "\u001B[32m18:54:10 - chessAI - INFO\u001B[0m \u001B[1;37mR²: -0.0000\u001B[0m\n",
      "\u001B[32m18:54:10 - chessAI - INFO\u001B[0m \u001B[1;37m\n",
      "Test Set Metrics:\u001B[0m\n",
      "\u001B[32m18:54:10 - chessAI - INFO\u001B[0m \u001B[1;37mMAE: 2.8226\u001B[0m\n",
      "\u001B[32m18:54:10 - chessAI - INFO\u001B[0m \u001B[1;37mRMSE: 7.8625\u001B[0m\n",
      "\u001B[32m18:54:10 - chessAI - INFO\u001B[0m \u001B[1;37mR²: -0.0000\u001B[0m\n"
     ]
    }
   ],
   "source": [
    "from sklearn.metrics import mean_absolute_error, mean_squared_error, r2_score\n",
    "import numpy as np\n",
    "\n",
    "def calculate_metrics(model, data_loader):\n",
    "    model.eval()\n",
    "    all_predictions = []\n",
    "    all_targets = []\n",
    "    \n",
    "    with torch.no_grad():\n",
    "        for batch_X, batch_y in data_loader:\n",
    "            outputs = model(batch_X)\n",
    "            # Denormalize predictions and targets\n",
    "            predictions = outputs.squeeze().cpu().numpy() * EVAL_STD + EVAL_MEAN\n",
    "            targets = batch_y.cpu().numpy() * EVAL_STD + EVAL_MEAN\n",
    "            \n",
    "            all_predictions.extend(predictions)\n",
    "            all_targets.extend(targets)\n",
    "    \n",
    "    all_predictions = np.array(all_predictions)\n",
    "    all_targets = np.array(all_targets)\n",
    "    \n",
    "    mae = mean_absolute_error(all_targets, all_predictions)\n",
    "    rmse = np.sqrt(mean_squared_error(all_targets, all_predictions))\n",
    "    r2 = r2_score(all_targets, all_predictions)\n",
    "    \n",
    "    return {\n",
    "        'MAE': mae,\n",
    "        'RMSE': rmse,\n",
    "        'R²': r2\n",
    "    }\n",
    "\n",
    "# Calculate metrics for both training and test sets\n",
    "train_metrics = calculate_metrics(model, train_loader)\n",
    "test_metrics = calculate_metrics(model, test_loader)\n",
    "\n",
    "# Print results\n",
    "logger.info(\"Training Set Metrics:\")\n",
    "for metric, value in train_metrics.items():\n",
    "    logger.info(f\"{metric}: {value:.4f}\")\n",
    "\n",
    "logger.info(\"\\nTest Set Metrics:\")\n",
    "for metric, value in test_metrics.items():\n",
    "    logger.info(f\"{metric}: {value:.4f}\")"
   ]
  }
 ],
 "metadata": {
  "kernelspec": {
   "display_name": "Python 3",
   "language": "python",
   "name": "python3"
  },
  "language_info": {
   "codemirror_mode": {
    "name": "ipython",
    "version": 3
   },
   "file_extension": ".py",
   "mimetype": "text/x-python",
   "name": "python",
   "nbconvert_exporter": "python",
   "pygments_lexer": "ipython3",
   "version": "3.12.6"
  }
 },
 "nbformat": 4,
 "nbformat_minor": 5
}
