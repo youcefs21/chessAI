{
 "cells": [
  {
   "cell_type": "code",
   "id": "b650c9ea7e63bbb1",
   "metadata": {
    "ExecuteTime": {
     "end_time": "2024-12-08T03:41:53.022688Z",
     "start_time": "2024-12-08T03:41:49.404621Z"
    }
   },
   "source": [
    "import torch\n",
    "import torch.nn as nn\n",
    "import torch.optim as optim\n",
    "from torch.utils.data import TensorDataset, DataLoader\n",
    "import numpy as np\n",
    "\n",
    "from src.dataset.chess_dataframe import ChessDataFrame, Sizes\n",
    "from logging_config import setup_logging\n",
    "\n",
    "# Setup logging\n",
    "logger = setup_logging()\n",
    "\n",
    "device = torch.device(\"mps\" if torch.backends.mps.is_available() else \"cuda\" if torch.cuda.is_available() else \"cpu\")\n",
    "logger.info(f\"Using device: {device}\")\n",
    "\n",
    "# I need to make csv batches of data and uploads it to huggingface\n",
    "dataset = ChessDataFrame(size=Sizes.extra_smol)\n",
    "logger.info(\"Successfully initialized ChessDataset\")"
   ],
   "outputs": [
    {
     "name": "stderr",
     "output_type": "stream",
     "text": [
      "/Users/youcefboumar/PycharmProjects/ChessAI/.venv/lib/python3.12/site-packages/tqdm/auto.py:21: TqdmWarning: IProgress not found. Please update jupyter and ipywidgets. See https://ipywidgets.readthedocs.io/en/stable/user_install.html\n",
      "  from .autonotebook import tqdm as notebook_tqdm\n"
     ]
    },
    {
     "name": "stdout",
     "output_type": "stream",
     "text": [
      "\u001B[32m22:41:51 - chessAI - INFO\u001B[0m \u001B[1;37mUsing device: mps\u001B[0m\n",
      "\u001B[32m22:41:51 - chessAI - INFO\u001B[0m \u001B[1;37mInitializing ChessDataset\u001B[0m\n",
      "\u001B[32m22:41:51 - chessAI - INFO\u001B[0m \u001B[1;37mRepository Youcef/chessGames already exists\u001B[0m\n",
      "\u001B[32m22:41:51 - chessAI - INFO\u001B[0m \u001B[1;37mDataset already exists, loading...\u001B[0m\n",
      "\u001B[32m22:41:53 - chessAI - INFO\u001B[0m \u001B[1;37mSuccessfully initialized ChessDataset\u001B[0m\n"
     ]
    }
   ],
   "execution_count": 1
  },
  {
   "metadata": {
    "ExecuteTime": {
     "end_time": "2024-12-08T03:44:02.694798Z",
     "start_time": "2024-12-08T03:44:02.403728Z"
    }
   },
   "cell_type": "code",
   "source": [
    "from src.dataset.helpers import board_fen_to_image\n",
    "\n",
    "def arr_to_imgs(arr):\n",
    "    return [board_fen_to_image(x) for x in arr]\n",
    "\n",
    "def afloat(arr):\n",
    "    return [float(x) for x in arr]\n",
    "\n",
    "train_X = np.stack(dataset.df_train[\"Board\"].apply(arr_to_imgs).to_numpy())\n"
   ],
   "id": "319f9bca57638f6a",
   "outputs": [
    {
     "ename": "ValueError",
     "evalue": "all input arrays must have the same shape",
     "output_type": "error",
     "traceback": [
      "\u001B[0;31m---------------------------------------------------------------------------\u001B[0m",
      "\u001B[0;31mValueError\u001B[0m                                Traceback (most recent call last)",
      "Cell \u001B[0;32mIn[11], line 9\u001B[0m\n\u001B[1;32m      6\u001B[0m \u001B[38;5;28;01mdef\u001B[39;00m \u001B[38;5;21mafloat\u001B[39m(arr):\n\u001B[1;32m      7\u001B[0m     \u001B[38;5;28;01mreturn\u001B[39;00m [\u001B[38;5;28mfloat\u001B[39m(x) \u001B[38;5;28;01mfor\u001B[39;00m x \u001B[38;5;129;01min\u001B[39;00m arr]\n\u001B[0;32m----> 9\u001B[0m train_X \u001B[38;5;241m=\u001B[39m \u001B[43mnp\u001B[49m\u001B[38;5;241;43m.\u001B[39;49m\u001B[43mstack\u001B[49m\u001B[43m(\u001B[49m\u001B[43mdataset\u001B[49m\u001B[38;5;241;43m.\u001B[39;49m\u001B[43mdf_train\u001B[49m\u001B[43m[\u001B[49m\u001B[38;5;124;43m\"\u001B[39;49m\u001B[38;5;124;43mBoard\u001B[39;49m\u001B[38;5;124;43m\"\u001B[39;49m\u001B[43m]\u001B[49m\u001B[38;5;241;43m.\u001B[39;49m\u001B[43mapply\u001B[49m\u001B[43m(\u001B[49m\u001B[43marr_to_imgs\u001B[49m\u001B[43m)\u001B[49m\u001B[38;5;241;43m.\u001B[39;49m\u001B[43mto_numpy\u001B[49m\u001B[43m(\u001B[49m\u001B[43m)\u001B[49m\u001B[43m)\u001B[49m\n",
      "File \u001B[0;32m~/PycharmProjects/ChessAI/.venv/lib/python3.12/site-packages/numpy/_core/shape_base.py:457\u001B[0m, in \u001B[0;36mstack\u001B[0;34m(arrays, axis, out, dtype, casting)\u001B[0m\n\u001B[1;32m    455\u001B[0m shapes \u001B[38;5;241m=\u001B[39m {arr\u001B[38;5;241m.\u001B[39mshape \u001B[38;5;28;01mfor\u001B[39;00m arr \u001B[38;5;129;01min\u001B[39;00m arrays}\n\u001B[1;32m    456\u001B[0m \u001B[38;5;28;01mif\u001B[39;00m \u001B[38;5;28mlen\u001B[39m(shapes) \u001B[38;5;241m!=\u001B[39m \u001B[38;5;241m1\u001B[39m:\n\u001B[0;32m--> 457\u001B[0m     \u001B[38;5;28;01mraise\u001B[39;00m \u001B[38;5;167;01mValueError\u001B[39;00m(\u001B[38;5;124m'\u001B[39m\u001B[38;5;124mall input arrays must have the same shape\u001B[39m\u001B[38;5;124m'\u001B[39m)\n\u001B[1;32m    459\u001B[0m result_ndim \u001B[38;5;241m=\u001B[39m arrays[\u001B[38;5;241m0\u001B[39m]\u001B[38;5;241m.\u001B[39mndim \u001B[38;5;241m+\u001B[39m \u001B[38;5;241m1\u001B[39m\n\u001B[1;32m    460\u001B[0m axis \u001B[38;5;241m=\u001B[39m normalize_axis_index(axis, result_ndim)\n",
      "\u001B[0;31mValueError\u001B[0m: all input arrays must have the same shape"
     ]
    }
   ],
   "execution_count": 11
  },
  {
   "cell_type": "code",
   "id": "2ddbb98300acfd5e",
   "metadata": {
    "ExecuteTime": {
     "end_time": "2024-12-08T03:43:32.307132Z",
     "start_time": "2024-12-08T03:43:32.304053Z"
    }
   },
   "source": "train_X.shape",
   "outputs": [
    {
     "data": {
      "text/plain": [
       "(800,)"
      ]
     },
     "execution_count": 10,
     "metadata": {},
     "output_type": "execute_result"
    }
   ],
   "execution_count": 10
  },
  {
   "cell_type": "code",
   "id": "8c5b1415",
   "metadata": {
    "ExecuteTime": {
     "end_time": "2024-12-08T00:04:21.245094Z",
     "start_time": "2024-12-08T00:04:18.292404Z"
    }
   },
   "source": [
    "def arr_to_imgs(arr):\n",
    "    return [board_fen_to_image(x) for x in arr]\n",
    "\n",
    "def afloat(arr):\n",
    "    return [float(x) for x in arr]\n",
    "\n",
    "train_X = np.concatenate(dataset.df_train[\"Board\"].apply(arr_to_imgs).to_numpy())\n",
    "test_X = np.concatenate(dataset.df_test[\"Board\"].apply(arr_to_imgs).to_numpy())\n",
    "train_Y = np.clip(\n",
    "    np.concatenate(dataset.df_train[\"Eval\"].apply(afloat).to_numpy(), dtype=np.float32),\n",
    "    -20,\n",
    "    20\n",
    ") / 20.0  # Normalize to [-1, 1] by dividing by max magnitude\n",
    "\n",
    "test_Y = np.clip(\n",
    "    np.concatenate(dataset.df_test[\"Eval\"].apply(afloat).to_numpy(), dtype=np.float32), \n",
    "    -20,\n",
    "    20\n",
    ") / 20.0  # Normalize to [-1, 1] by dividing by max magnitude\n"
   ],
   "outputs": [],
   "execution_count": 40
  },
  {
   "cell_type": "code",
   "id": "2d73f2e8",
   "metadata": {
    "ExecuteTime": {
     "end_time": "2024-12-08T00:04:23.415170Z",
     "start_time": "2024-12-08T00:04:23.165089Z"
    }
   },
   "source": [
    "import matplotlib.pyplot as plt\n",
    "\n",
    "# Create a figure with two subplots side by side\n",
    "plt.figure(figsize=(15, 5))\n",
    "\n",
    "# Training data distribution\n",
    "plt.subplot(1, 2, 1)\n",
    "plt.hist(train_Y, bins=50, density=True, alpha=0.7)\n",
    "plt.title('Distribution of Evaluation Scores (Training Set)')\n",
    "plt.xlabel('Evaluation Score')\n",
    "plt.ylabel('Density')\n",
    "\n",
    "# Test data distribution\n",
    "plt.subplot(1, 2, 2)\n",
    "plt.hist(test_Y, bins=50, density=True, alpha=0.7)\n",
    "plt.title('Distribution of Evaluation Scores (Test Set)')\n",
    "plt.xlabel('Evaluation Score')\n",
    "plt.ylabel('Density')\n",
    "\n",
    "plt.tight_layout()\n",
    "plt.show()\n",
    "\n",
    "# Print some basic statistics\n",
    "print(\"\\nTraining Set Statistics:\")\n",
    "print(f\"Mean: {np.mean(train_Y):.3f}\")\n",
    "print(f\"Std: {np.std(train_Y):.3f}\")\n",
    "print(f\"Min: {np.min(train_Y):.3f}\")\n",
    "print(f\"Max: {np.max(train_Y):.3f}\")\n",
    "\n",
    "print(\"\\nTest Set Statistics:\")\n",
    "print(f\"Mean: {np.mean(test_Y):.3f}\")\n",
    "print(f\"Std: {np.std(test_Y):.3f}\")\n",
    "print(f\"Min: {np.min(test_Y):.3f}\")\n",
    "print(f\"Max: {np.max(test_Y):.3f}\")"
   ],
   "outputs": [
    {
     "data": {
      "text/plain": [
       "<Figure size 1500x500 with 2 Axes>"
      ],
      "image/png": "[encoded data removed]"
     },
     "metadata": {},
     "output_type": "display_data"
    },
    {
     "name": "stdout",
     "output_type": "stream",
     "text": [
      "\n",
      "Training Set Statistics:\n",
      "Mean: 0.014\n",
      "Std: 0.305\n",
      "Min: -1.000\n",
      "Max: 1.000\n",
      "\n",
      "Test Set Statistics:\n",
      "Mean: 0.014\n",
      "Std: 0.303\n",
      "Min: -1.000\n",
      "Max: 1.000\n"
     ]
    }
   ],
   "execution_count": 41
  },
  {
   "cell_type": "code",
   "id": "885b6edf",
   "metadata": {
    "ExecuteTime": {
     "end_time": "2024-12-08T00:04:43.114088Z",
     "start_time": "2024-12-08T00:04:43.106365Z"
    }
   },
   "source": [
    "train_X.shape"
   ],
   "outputs": [
    {
     "data": {
      "text/plain": [
       "(367006, 12, 8, 8)"
      ]
     },
     "execution_count": 42,
     "metadata": {},
     "output_type": "execute_result"
    }
   ],
   "execution_count": 42
  },
  {
   "cell_type": "code",
   "id": "7b0642d4",
   "metadata": {
    "ExecuteTime": {
     "end_time": "2024-12-08T00:04:45.473883Z",
     "start_time": "2024-12-08T00:04:45.461308Z"
    }
   },
   "source": [
    "train_Y.shape"
   ],
   "outputs": [
    {
     "data": {
      "text/plain": [
       "(367006,)"
      ]
     },
     "execution_count": 43,
     "metadata": {},
     "output_type": "execute_result"
    }
   ],
   "execution_count": 43
  },
  {
   "cell_type": "code",
   "execution_count": 15,
   "id": "58464af1",
   "metadata": {
    "ExecuteTime": {
     "end_time": "2024-12-07T22:47:34.623767Z",
     "start_time": "2024-12-07T22:47:34.620596Z"
    }
   },
   "outputs": [
    {
     "data": {
      "text/plain": [
       "np.float32(0.17)"
      ]
     },
     "execution_count": 15,
     "metadata": {},
     "output_type": "execute_result"
    }
   ],
   "source": [
    "train_Y[0]"
   ]
  },
  {
   "cell_type": "code",
   "execution_count": 16,
   "id": "eb7ca2e34fb41961",
   "metadata": {
    "ExecuteTime": {
     "end_time": "2024-12-07T22:47:38.601938Z",
     "start_time": "2024-12-07T22:47:38.596661Z"
    }
   },
   "outputs": [
    {
     "data": {
      "text/plain": [
       "array([[[0, 0, 0, 0, 0, 0, 0, 0],\n",
       "        [0, 0, 0, 0, 0, 0, 0, 0],\n",
       "        [0, 0, 0, 0, 0, 0, 0, 0],\n",
       "        [0, 0, 0, 0, 0, 0, 0, 0],\n",
       "        [0, 0, 0, 0, 0, 0, 0, 0],\n",
       "        [0, 0, 0, 0, 0, 0, 0, 0],\n",
       "        [1, 1, 1, 1, 1, 1, 1, 1],\n",
       "        [0, 0, 0, 0, 0, 0, 0, 0]],\n",
       "\n",
       "       [[0, 0, 0, 0, 0, 0, 0, 0],\n",
       "        [0, 0, 0, 0, 0, 0, 0, 0],\n",
       "        [0, 0, 0, 0, 0, 0, 0, 0],\n",
       "        [0, 0, 0, 0, 0, 0, 0, 0],\n",
       "        [0, 0, 0, 0, 0, 0, 0, 0],\n",
       "        [0, 0, 0, 0, 0, 1, 0, 0],\n",
       "        [0, 0, 0, 0, 0, 0, 0, 0],\n",
       "        [0, 1, 0, 0, 0, 0, 0, 0]],\n",
       "\n",
       "       [[0, 0, 0, 0, 0, 0, 0, 0],\n",
       "        [0, 0, 0, 0, 0, 0, 0, 0],\n",
       "        [0, 0, 0, 0, 0, 0, 0, 0],\n",
       "        [0, 0, 0, 0, 0, 0, 0, 0],\n",
       "        [0, 0, 0, 0, 0, 0, 0, 0],\n",
       "        [0, 0, 0, 0, 0, 0, 0, 0],\n",
       "        [0, 0, 0, 0, 0, 0, 0, 0],\n",
       "        [0, 0, 1, 0, 0, 1, 0, 0]],\n",
       "\n",
       "       [[0, 0, 0, 0, 0, 0, 0, 0],\n",
       "        [0, 0, 0, 0, 0, 0, 0, 0],\n",
       "        [0, 0, 0, 0, 0, 0, 0, 0],\n",
       "        [0, 0, 0, 0, 0, 0, 0, 0],\n",
       "        [0, 0, 0, 0, 0, 0, 0, 0],\n",
       "        [0, 0, 0, 0, 0, 0, 0, 0],\n",
       "        [0, 0, 0, 0, 0, 0, 0, 0],\n",
       "        [1, 0, 0, 0, 0, 0, 0, 1]],\n",
       "\n",
       "       [[0, 0, 0, 0, 0, 0, 0, 0],\n",
       "        [0, 0, 0, 0, 0, 0, 0, 0],\n",
       "        [0, 0, 0, 0, 0, 0, 0, 0],\n",
       "        [0, 0, 0, 0, 0, 0, 0, 0],\n",
       "        [0, 0, 0, 0, 0, 0, 0, 0],\n",
       "        [0, 0, 0, 0, 0, 0, 0, 0],\n",
       "        [0, 0, 0, 0, 0, 0, 0, 0],\n",
       "        [0, 0, 0, 1, 0, 0, 0, 0]],\n",
       "\n",
       "       [[0, 0, 0, 0, 0, 0, 0, 0],\n",
       "        [0, 0, 0, 0, 0, 0, 0, 0],\n",
       "        [0, 0, 0, 0, 0, 0, 0, 0],\n",
       "        [0, 0, 0, 0, 0, 0, 0, 0],\n",
       "        [0, 0, 0, 0, 0, 0, 0, 0],\n",
       "        [0, 0, 0, 0, 0, 0, 0, 0],\n",
       "        [0, 0, 0, 0, 0, 0, 0, 0],\n",
       "        [0, 0, 0, 0, 1, 0, 0, 0]],\n",
       "\n",
       "       [[0, 0, 0, 0, 0, 0, 0, 0],\n",
       "        [1, 1, 1, 1, 1, 1, 1, 1],\n",
       "        [0, 0, 0, 0, 0, 0, 0, 0],\n",
       "        [0, 0, 0, 0, 0, 0, 0, 0],\n",
       "        [0, 0, 0, 0, 0, 0, 0, 0],\n",
       "        [0, 0, 0, 0, 0, 0, 0, 0],\n",
       "        [0, 0, 0, 0, 0, 0, 0, 0],\n",
       "        [0, 0, 0, 0, 0, 0, 0, 0]],\n",
       "\n",
       "       [[0, 1, 0, 0, 0, 0, 1, 0],\n",
       "        [0, 0, 0, 0, 0, 0, 0, 0],\n",
       "        [0, 0, 0, 0, 0, 0, 0, 0],\n",
       "        [0, 0, 0, 0, 0, 0, 0, 0],\n",
       "        [0, 0, 0, 0, 0, 0, 0, 0],\n",
       "        [0, 0, 0, 0, 0, 0, 0, 0],\n",
       "        [0, 0, 0, 0, 0, 0, 0, 0],\n",
       "        [0, 0, 0, 0, 0, 0, 0, 0]],\n",
       "\n",
       "       [[0, 0, 1, 0, 0, 1, 0, 0],\n",
       "        [0, 0, 0, 0, 0, 0, 0, 0],\n",
       "        [0, 0, 0, 0, 0, 0, 0, 0],\n",
       "        [0, 0, 0, 0, 0, 0, 0, 0],\n",
       "        [0, 0, 0, 0, 0, 0, 0, 0],\n",
       "        [0, 0, 0, 0, 0, 0, 0, 0],\n",
       "        [0, 0, 0, 0, 0, 0, 0, 0],\n",
       "        [0, 0, 0, 0, 0, 0, 0, 0]],\n",
       "\n",
       "       [[1, 0, 0, 0, 0, 0, 0, 1],\n",
       "        [0, 0, 0, 0, 0, 0, 0, 0],\n",
       "        [0, 0, 0, 0, 0, 0, 0, 0],\n",
       "        [0, 0, 0, 0, 0, 0, 0, 0],\n",
       "        [0, 0, 0, 0, 0, 0, 0, 0],\n",
       "        [0, 0, 0, 0, 0, 0, 0, 0],\n",
       "        [0, 0, 0, 0, 0, 0, 0, 0],\n",
       "        [0, 0, 0, 0, 0, 0, 0, 0]],\n",
       "\n",
       "       [[0, 0, 0, 1, 0, 0, 0, 0],\n",
       "        [0, 0, 0, 0, 0, 0, 0, 0],\n",
       "        [0, 0, 0, 0, 0, 0, 0, 0],\n",
       "        [0, 0, 0, 0, 0, 0, 0, 0],\n",
       "        [0, 0, 0, 0, 0, 0, 0, 0],\n",
       "        [0, 0, 0, 0, 0, 0, 0, 0],\n",
       "        [0, 0, 0, 0, 0, 0, 0, 0],\n",
       "        [0, 0, 0, 0, 0, 0, 0, 0]],\n",
       "\n",
       "       [[0, 0, 0, 0, 1, 0, 0, 0],\n",
       "        [0, 0, 0, 0, 0, 0, 0, 0],\n",
       "        [0, 0, 0, 0, 0, 0, 0, 0],\n",
       "        [0, 0, 0, 0, 0, 0, 0, 0],\n",
       "        [0, 0, 0, 0, 0, 0, 0, 0],\n",
       "        [0, 0, 0, 0, 0, 0, 0, 0],\n",
       "        [0, 0, 0, 0, 0, 0, 0, 0],\n",
       "        [0, 0, 0, 0, 0, 0, 0, 0]]], dtype=int8)"
      ]
     },
     "execution_count": 16,
     "metadata": {},
     "output_type": "execute_result"
    }
   ],
   "source": [
    "train_X[0]"
   ]
  },
  {
   "cell_type": "code",
   "execution_count": null,
   "id": "b1a23796",
   "metadata": {},
   "outputs": [],
   "source": []
  },
  {
   "cell_type": "code",
   "id": "1ad65bb250ea4f88",
   "metadata": {
    "ExecuteTime": {
     "end_time": "2024-12-08T00:15:16.521486Z",
     "start_time": "2024-12-08T00:04:49.852854Z"
    }
   },
   "source": [
    "class ChessEvalNet(nn.Module):\n",
    "    def __init__(self):\n",
    "        super(ChessEvalNet, self).__init__()\n",
    "        \n",
    "        # Convolutional layers\n",
    "        self.conv1 = nn.Conv2d(12, 64, kernel_size=3, padding=1)\n",
    "        self.conv2 = nn.Conv2d(64, 128, kernel_size=3, padding=1)\n",
    "        self.conv3 = nn.Conv2d(128, 256, kernel_size=3, padding=1)\n",
    "        \n",
    "        # Batch normalization layers\n",
    "        self.bn1 = nn.BatchNorm2d(64)\n",
    "        self.bn2 = nn.BatchNorm2d(128)\n",
    "        self.bn3 = nn.BatchNorm2d(256)\n",
    "        \n",
    "        # Fully connected layers\n",
    "        self.fc1 = nn.Linear(256 * 8 * 8, 512)\n",
    "        self.fc2 = nn.Linear(512, 256)\n",
    "        self.fc3 = nn.Linear(256, 1)\n",
    "        \n",
    "        self.relu = nn.ReLU()\n",
    "        self.dropout = nn.Dropout(0.2)\n",
    "\n",
    "    def forward(self, x):\n",
    "        # Convolutional blocks\n",
    "        x = self.relu(self.bn1(self.conv1(x)))\n",
    "        x = self.relu(self.bn2(self.conv2(x)))\n",
    "        x = self.relu(self.bn3(self.conv3(x)))\n",
    "        \n",
    "        # Flatten and fully connected layers\n",
    "        x = x.view(-1, 256 * 8 * 8)\n",
    "        x = self.dropout(self.relu(self.fc1(x)))\n",
    "        x = self.dropout(self.relu(self.fc2(x)))\n",
    "        x = self.fc3(x)\n",
    "        \n",
    "        return x\n",
    "\n",
    "# Create model and move to device\n",
    "model = ChessEvalNet().to(device)\n",
    "\n",
    "# Convert data to tensors and create DataLoader\n",
    "X_train = torch.FloatTensor(train_X).to(device)\n",
    "y_train = torch.FloatTensor(train_Y).to(device)\n",
    "X_test = torch.FloatTensor(test_X).to(device)\n",
    "y_test = torch.FloatTensor(test_Y).to(device)\n",
    "\n",
    "train_dataset = TensorDataset(X_train, y_train)\n",
    "test_dataset = TensorDataset(X_test, y_test)\n",
    "train_loader = DataLoader(train_dataset, batch_size=64, shuffle=True)\n",
    "test_loader = DataLoader(test_dataset, batch_size=64, shuffle=False)\n",
    "\n",
    "\n",
    "# Loss function and optimizer\n",
    "criterion = nn.MSELoss()\n",
    "optimizer = optim.Adam(model.parameters(), lr=0.001)\n",
    "\n",
    "\n",
    "def evaluate_model(model_to_eval, data_loader_eval):\n",
    "    model_to_eval.eval()\n",
    "    eval_total_loss = 0\n",
    "    with torch.no_grad():\n",
    "        for batch_x, batch_Y in data_loader_eval:\n",
    "            batch_outputs = model_to_eval(batch_x)\n",
    "            batch_loss = criterion(batch_outputs.squeeze(), batch_Y)\n",
    "            eval_total_loss += batch_loss.item()\n",
    "    return eval_total_loss / len(data_loader_eval)\n",
    "\n",
    "# Training loop\n",
    "num_epochs = 10\n",
    "for epoch in range(num_epochs):\n",
    "    # Training phase\n",
    "    model.train()\n",
    "    total_loss = 0\n",
    "    for batch_X, batch_y in train_loader:\n",
    "        optimizer.zero_grad()\n",
    "        outputs = model(batch_X)\n",
    "        loss = criterion(outputs.squeeze(), batch_y)\n",
    "        loss.backward()\n",
    "        optimizer.step()\n",
    "        total_loss += loss.item()\n",
    "    \n",
    "    # Calculate losses\n",
    "    train_loss = total_loss / len(train_loader)\n",
    "    test_loss = evaluate_model(model, test_loader)\n",
    "    \n",
    "    # Print epoch statistics\n",
    "    logger.info(f'Epoch [{epoch+1}/{num_epochs}], Train Loss: {train_loss:.4f}, Test Loss: {test_loss:.4f}')"
   ],
   "outputs": [
    {
     "name": "stdout",
     "output_type": "stream",
     "text": [
      "\u001B[32m19:06:33 - chessAI - INFO\u001B[0m \u001B[1;37mEpoch [1/10], Train Loss: 0.0537, Test Loss: 0.0463\u001B[0m\n",
      "\u001B[32m19:08:09 - chessAI - INFO\u001B[0m \u001B[1;37mEpoch [2/10], Train Loss: 0.0365, Test Loss: 0.0402\u001B[0m\n",
      "\u001B[32m19:09:46 - chessAI - INFO\u001B[0m \u001B[1;37mEpoch [3/10], Train Loss: 0.0331, Test Loss: 0.0381\u001B[0m\n",
      "\u001B[32m19:11:28 - chessAI - INFO\u001B[0m \u001B[1;37mEpoch [4/10], Train Loss: 0.0300, Test Loss: 0.0404\u001B[0m\n",
      "\u001B[32m19:12:58 - chessAI - INFO\u001B[0m \u001B[1;37mEpoch [5/10], Train Loss: 0.0271, Test Loss: 0.0372\u001B[0m\n",
      "\u001B[32m19:15:10 - chessAI - INFO\u001B[0m \u001B[1;37mEpoch [6/10], Train Loss: 0.0247, Test Loss: 0.0405\u001B[0m\n"
     ]
    },
    {
     "name": "stderr",
     "output_type": "stream",
     "text": [
      "\n",
      "KeyboardInterrupt\n",
      "\n"
     ]
    }
   ],
   "execution_count": 44
  },
  {
   "cell_type": "code",
   "execution_count": 24,
   "id": "aaca74781f58dff8",
   "metadata": {
    "ExecuteTime": {
     "end_time": "2024-12-07T23:54:10.847189Z",
     "start_time": "2024-12-07T23:53:17.264822Z"
    }
   },
   "outputs": [
    {
     "name": "stdout",
     "output_type": "stream",
     "text": [
      "\u001B[32m18:54:10 - chessAI - INFO\u001B[0m \u001B[1;37mTraining Set Metrics:\u001B[0m\n",
      "\u001B[32m18:54:10 - chessAI - INFO\u001B[0m \u001B[1;37mMAE: 2.9221\u001B[0m\n",
      "\u001B[32m18:54:10 - chessAI - INFO\u001B[0m \u001B[1;37mRMSE: 8.5366\u001B[0m\n",
      "\u001B[32m18:54:10 - chessAI - INFO\u001B[0m \u001B[1;37mR²: -0.0000\u001B[0m\n",
      "\u001B[32m18:54:10 - chessAI - INFO\u001B[0m \u001B[1;37m\n",
      "Test Set Metrics:\u001B[0m\n",
      "\u001B[32m18:54:10 - chessAI - INFO\u001B[0m \u001B[1;37mMAE: 2.8226\u001B[0m\n",
      "\u001B[32m18:54:10 - chessAI - INFO\u001B[0m \u001B[1;37mRMSE: 7.8625\u001B[0m\n",
      "\u001B[32m18:54:10 - chessAI - INFO\u001B[0m \u001B[1;37mR²: -0.0000\u001B[0m\n"
     ]
    }
   ],
   "source": [
    "from sklearn.metrics import mean_absolute_error, mean_squared_error, r2_score\n",
    "import numpy as np\n",
    "\n",
    "def calculate_metrics(model, data_loader):\n",
    "    model.eval()\n",
    "    all_predictions = []\n",
    "    all_targets = []\n",
    "    \n",
    "    with torch.no_grad():\n",
    "        for batch_X, batch_y in data_loader:\n",
    "            outputs = model(batch_X)\n",
    "            # Denormalize predictions and targets\n",
    "            predictions = outputs.squeeze().cpu().numpy() * EVAL_STD + EVAL_MEAN\n",
    "            targets = batch_y.cpu().numpy() * EVAL_STD + EVAL_MEAN\n",
    "            \n",
    "            all_predictions.extend(predictions)\n",
    "            all_targets.extend(targets)\n",
    "    \n",
    "    all_predictions = np.array(all_predictions)\n",
    "    all_targets = np.array(all_targets)\n",
    "    \n",
    "    mae = mean_absolute_error(all_targets, all_predictions)\n",
    "    rmse = np.sqrt(mean_squared_error(all_targets, all_predictions))\n",
    "    r2 = r2_score(all_targets, all_predictions)\n",
    "    \n",
    "    return {\n",
    "        'MAE': mae,\n",
    "        'RMSE': rmse,\n",
    "        'R²': r2\n",
    "    }\n",
    "\n",
    "# Calculate metrics for both training and test sets\n",
    "train_metrics = calculate_metrics(model, train_loader)\n",
    "test_metrics = calculate_metrics(model, test_loader)\n",
    "\n",
    "# Print results\n",
    "logger.info(\"Training Set Metrics:\")\n",
    "for metric, value in train_metrics.items():\n",
    "    logger.info(f\"{metric}: {value:.4f}\")\n",
    "\n",
    "logger.info(\"\\nTest Set Metrics:\")\n",
    "for metric, value in test_metrics.items():\n",
    "    logger.info(f\"{metric}: {value:.4f}\")"
   ]
  }
 ],
 "metadata": {
  "kernelspec": {
   "display_name": "Python 3",
   "language": "python",
   "name": "python3"
  },
  "language_info": {
   "codemirror_mode": {
    "name": "ipython",
    "version": 3
   },
   "file_extension": ".py",
   "mimetype": "text/x-python",
   "name": "python",
   "nbconvert_exporter": "python",
   "pygments_lexer": "ipython3",
   "version": "3.12.6"
  }
 },
 "nbformat": 4,
 "nbformat_minor": 5
}
